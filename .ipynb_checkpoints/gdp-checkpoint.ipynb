{
 "cells": [
  {
   "cell_type": "markdown",
   "metadata": {
    "id": "YSABjDo6HALK"
   },
   "source": [
    "\n",
    "\n",
    "![Picture 1.png](data:image/png;base64,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)\n",
    "\n",
    "*   **Name: Rosemary Kanyoro**\n",
    "*   **Admission Number: 149765**\n",
    "*   **Unit: DSA 8502_Predictive and Optimization Analytics**\n",
    "\n",
    "\n",
    "---\n",
    "\n",
    "\n"
   ]
  },
  {
   "cell_type": "markdown",
   "metadata": {
    "id": "d_SV7Cx8gpSl"
   },
   "source": [
    " **Project Title:**\n",
    "\n",
    " **A MACHINE LEARNING APPROACH TO PREDICTION OF KENYA'S GROSS DOMESTIC PRODUCT (GDP): ANALYSING GEO-ECONOMIC DEVELOPMENT FACTORS**\n",
    "\n",
    "\n",
    "---\n",
    "\n",
    "\n",
    "\n",
    " **-> Introduction**\n",
    "\n",
    "GDP per capita is an important economic metric used globally by economists to analyse a country's prosperity based on its economic growth by measuring how much of a country's overall economic production value can be attributed to each of its citizens.\n",
    "\n",
    "My project attempts to investigate the various factors that affect GDP per capita for different countries and apply a machine learning algorithm to develop a model that can accurately predict the GDP. The proposed model is built on a dataset of different countries and their corresponding GDP per capita values containing the geo-economic development factors, which will be trained and validated on a separate dataset to estimate the next GDP per capita for Kenya.\n",
    "\n",
    "---\n",
    "\n",
    "\n",
    " **-> Objectives**\n",
    "\n",
    "I seek to answer the following questions:\n",
    "\n",
    "1.   What factors are most strongly correlated with the GDP per capita of a country?\n",
    "2.   Which countries have the highest and lowest GDP per capita and are the same factors influential in both groups?\n",
    "3. Can a machine learning algorithm be trained on the various factors and then accurately predict GDP per capita for any given country?\n",
    "4. Will the accuracy of the predictions vary between Regions? e.g Europe vs Sub-Saharan Africa\n",
    "5. Can I use the model to build a GDP predictor for Kenya from the insights gained about the Sub-Saharan Africa region?\n",
    "\n",
    "\n",
    "---\n",
    " **-> Dataset**\n",
    "\n",
    "The dataset was sourced from the World Factbook hosted by U.S Central Intelligence Agency (CIA) webiste. It contains the GDP per Capita data of 227 countries categorised in 11 different regions. Data Source: https://www.cia.gov/the-world-factbook/\n",
    "\n",
    "---\n",
    " **-> Assumptions**\n",
    "\n",
    "\n",
    "1.   It is assumed that the GDP per Capita data sourced from the World Factbook hosted by the U.S. Central Intelligence Agency (CIA) website is accurate and reliable\n",
    "2.   Geo-economic factors are assumed to have a meaningful relationship with a country's economic prosperity and are significant contributors to GDP variations.\n",
    "3. It is assumed that regions marked in the dataset share commonalities in terms of economic, social, and geographic characteristics that may influence GDP per capita.\n",
    "\n",
    "\n",
    "\n",
    "\n",
    "\n",
    "---\n",
    " **-> Motivation**\n",
    "\n",
    "Majority of development experts use GDP per capita in the analysis of economic growth. The project allows me to apply both my finance and economics background to interrogate the data for a topic that is crucial for economic development by highlighting the most important factors affecting the GDP per capita and how the insights can be applied to predictions for Kenya to steer conversations and draw attention to the most critical factors for GDP growth.\n",
    "\n",
    "\n",
    "---\n",
    "\n",
    "\n",
    "\n",
    "\n",
    "\n",
    "\n",
    "\n"
   ]
  },
  {
   "cell_type": "markdown",
   "metadata": {
    "id": "_QMlfZCrEWU_"
   },
   "source": [
    "#  **Importing Libraries**\n",
    "\n",
    "I begin by importing all the libraries I will use for all the code I will use in the notebook"
   ]
  },
  {
   "cell_type": "code",
   "execution_count": 1,
   "metadata": {
    "id": "32mhTfpEKZvg"
   },
   "outputs": [],
   "source": [
    "#Include libraries to be used\n",
    "import matplotlib.pyplot as plt\n",
    "import seaborn as sns\n",
    "import pandas as pd\n",
    "import numpy as np\n",
    "import pydotplus\n",
    "import ssl\n",
    "import statsmodels\n",
    "import io\n",
    "import missingno as mn\n",
    "import statsmodels.api as sm\n",
    "import warnings\n",
    "import xgboost as xgb\n",
    "from scipy.cluster import hierarchy\n",
    "from sklearn import decomposition, preprocessing, cluster, tree\n",
    "from sklearn import cluster, decomposition, pipeline, preprocessing\n",
    "from yellowbrick.cluster.silhouette import SilhouetteVisualizer\n",
    "from bokeh.io import output_notebook\n",
    "from bokeh import models, palettes, transform\n",
    "from bokeh.plotting import figure, show\n",
    "from sklearn.preprocessing import LabelEncoder\n",
    "from sklearn.model_selection import train_test_split\n",
    "from sklearn.linear_model import LinearRegression\n",
    "from sklearn.tree import DecisionTreeRegressor\n",
    "from sklearn.ensemble import RandomForestRegressor\n",
    "from sklearn.metrics import mean_squared_error, mean_squared_log_error, mean_absolute_error\n",
    "from sklearn.decomposition import PCA\n",
    "from sklearn.preprocessing import StandardScaler\n",
    "from sklearn.preprocessing import minmax_scale\n",
    "from sklearn.preprocessing import MinMaxScaler\n",
    "from sklearn.metrics import accuracy_score, classification_report, confusion_matrix\n",
    "from sklearn.metrics import r2_score\n",
    "from sklearn.model_selection import GridSearchCV\n",
    "%matplotlib inline"
   ]
  },
  {
   "cell_type": "markdown",
   "metadata": {
    "id": "xJ8OHOEmIVsB"
   },
   "source": [
    "#  **Section 1) Loading and inspecting the data**"
   ]
  },
  {
   "cell_type": "code",
   "execution_count": 2,
   "metadata": {
    "colab": {
     "base_uri": "https://localhost:8080/",
     "height": 276
    },
    "id": "FOdGcd1qtew6",
    "outputId": "bdafbddc-2531-45f3-942c-9478237869e4"
   },
   "outputs": [
    {
     "data": {
      "text/html": [
       "<div>\n",
       "<style scoped>\n",
       "    .dataframe tbody tr th:only-of-type {\n",
       "        vertical-align: middle;\n",
       "    }\n",
       "\n",
       "    .dataframe tbody tr th {\n",
       "        vertical-align: top;\n",
       "    }\n",
       "\n",
       "    .dataframe thead th {\n",
       "        text-align: right;\n",
       "    }\n",
       "</style>\n",
       "<table border=\"1\" class=\"dataframe\">\n",
       "  <thead>\n",
       "    <tr style=\"text-align: right;\">\n",
       "      <th></th>\n",
       "      <th>Country</th>\n",
       "      <th>Region</th>\n",
       "      <th>Population</th>\n",
       "      <th>Area (sq. mi.)</th>\n",
       "      <th>Pop. Density (per sq. mi.)</th>\n",
       "      <th>Coastline (coast/area ratio)</th>\n",
       "      <th>Net migration</th>\n",
       "      <th>Infant mortality (per 1000 births)</th>\n",
       "      <th>GDP ($ per capita)</th>\n",
       "      <th>Literacy (%)</th>\n",
       "      <th>Phones (per 1000)</th>\n",
       "      <th>Arable (%)</th>\n",
       "      <th>Crops (%)</th>\n",
       "      <th>Other (%)</th>\n",
       "      <th>Climate</th>\n",
       "      <th>Birthrate</th>\n",
       "      <th>Deathrate</th>\n",
       "      <th>Agriculture</th>\n",
       "      <th>Industry</th>\n",
       "      <th>Service</th>\n",
       "    </tr>\n",
       "  </thead>\n",
       "  <tbody>\n",
       "    <tr>\n",
       "      <th>0</th>\n",
       "      <td>Afghanistan</td>\n",
       "      <td>ASIA (EX. NEAR EAST)</td>\n",
       "      <td>31056997</td>\n",
       "      <td>647500</td>\n",
       "      <td>48.0</td>\n",
       "      <td>0.00</td>\n",
       "      <td>23.06</td>\n",
       "      <td>163.07</td>\n",
       "      <td>700.0</td>\n",
       "      <td>36.0</td>\n",
       "      <td>3.2</td>\n",
       "      <td>12.13</td>\n",
       "      <td>0.22</td>\n",
       "      <td>87.65</td>\n",
       "      <td>1.0</td>\n",
       "      <td>46.60</td>\n",
       "      <td>20.34</td>\n",
       "      <td>0.38</td>\n",
       "      <td>0.24</td>\n",
       "      <td>0.38</td>\n",
       "    </tr>\n",
       "    <tr>\n",
       "      <th>1</th>\n",
       "      <td>Albania</td>\n",
       "      <td>EASTERN EUROPE</td>\n",
       "      <td>3581655</td>\n",
       "      <td>28748</td>\n",
       "      <td>124.6</td>\n",
       "      <td>1.26</td>\n",
       "      <td>-4.93</td>\n",
       "      <td>21.52</td>\n",
       "      <td>4500.0</td>\n",
       "      <td>86.5</td>\n",
       "      <td>71.2</td>\n",
       "      <td>21.09</td>\n",
       "      <td>4.42</td>\n",
       "      <td>74.49</td>\n",
       "      <td>3.0</td>\n",
       "      <td>15.11</td>\n",
       "      <td>5.22</td>\n",
       "      <td>232.00</td>\n",
       "      <td>188.00</td>\n",
       "      <td>579.00</td>\n",
       "    </tr>\n",
       "    <tr>\n",
       "      <th>2</th>\n",
       "      <td>Algeria</td>\n",
       "      <td>NORTHERN AFRICA</td>\n",
       "      <td>32930091</td>\n",
       "      <td>2381740</td>\n",
       "      <td>13.8</td>\n",
       "      <td>0.04</td>\n",
       "      <td>-0.39</td>\n",
       "      <td>31.00</td>\n",
       "      <td>6000.0</td>\n",
       "      <td>70.0</td>\n",
       "      <td>78.1</td>\n",
       "      <td>3.22</td>\n",
       "      <td>0.25</td>\n",
       "      <td>96.53</td>\n",
       "      <td>1.0</td>\n",
       "      <td>17.14</td>\n",
       "      <td>4.61</td>\n",
       "      <td>101.00</td>\n",
       "      <td>0.60</td>\n",
       "      <td>298.00</td>\n",
       "    </tr>\n",
       "    <tr>\n",
       "      <th>3</th>\n",
       "      <td>American Samoa</td>\n",
       "      <td>OCEANIA</td>\n",
       "      <td>57794</td>\n",
       "      <td>199</td>\n",
       "      <td>290.4</td>\n",
       "      <td>58.29</td>\n",
       "      <td>-20.71</td>\n",
       "      <td>9.27</td>\n",
       "      <td>8000.0</td>\n",
       "      <td>97.0</td>\n",
       "      <td>259.5</td>\n",
       "      <td>10.00</td>\n",
       "      <td>15.00</td>\n",
       "      <td>75.00</td>\n",
       "      <td>2.0</td>\n",
       "      <td>22.46</td>\n",
       "      <td>3.27</td>\n",
       "      <td>NaN</td>\n",
       "      <td>NaN</td>\n",
       "      <td>NaN</td>\n",
       "    </tr>\n",
       "    <tr>\n",
       "      <th>4</th>\n",
       "      <td>Andorra</td>\n",
       "      <td>WESTERN EUROPE</td>\n",
       "      <td>71201</td>\n",
       "      <td>468</td>\n",
       "      <td>152.1</td>\n",
       "      <td>0.00</td>\n",
       "      <td>6.60</td>\n",
       "      <td>4.05</td>\n",
       "      <td>19000.0</td>\n",
       "      <td>100.0</td>\n",
       "      <td>497.2</td>\n",
       "      <td>2.22</td>\n",
       "      <td>0.00</td>\n",
       "      <td>97.78</td>\n",
       "      <td>3.0</td>\n",
       "      <td>8.71</td>\n",
       "      <td>6.25</td>\n",
       "      <td>NaN</td>\n",
       "      <td>NaN</td>\n",
       "      <td>NaN</td>\n",
       "    </tr>\n",
       "  </tbody>\n",
       "</table>\n",
       "</div>"
      ],
      "text/plain": [
       "           Country                               Region  Population  \\\n",
       "0     Afghanistan         ASIA (EX. NEAR EAST)             31056997   \n",
       "1         Albania   EASTERN EUROPE                          3581655   \n",
       "2         Algeria   NORTHERN AFRICA                        32930091   \n",
       "3  American Samoa   OCEANIA                                   57794   \n",
       "4         Andorra   WESTERN EUROPE                            71201   \n",
       "\n",
       "   Area (sq. mi.)  Pop. Density (per sq. mi.)  Coastline (coast/area ratio)  \\\n",
       "0          647500                        48.0                          0.00   \n",
       "1           28748                       124.6                          1.26   \n",
       "2         2381740                        13.8                          0.04   \n",
       "3             199                       290.4                         58.29   \n",
       "4             468                       152.1                          0.00   \n",
       "\n",
       "   Net migration  Infant mortality (per 1000 births)  GDP ($ per capita)  \\\n",
       "0          23.06                              163.07               700.0   \n",
       "1          -4.93                               21.52              4500.0   \n",
       "2          -0.39                               31.00              6000.0   \n",
       "3         -20.71                                9.27              8000.0   \n",
       "4           6.60                                4.05             19000.0   \n",
       "\n",
       "   Literacy (%)  Phones (per 1000)  Arable (%)  Crops (%)  Other (%)  Climate  \\\n",
       "0          36.0                3.2       12.13       0.22      87.65      1.0   \n",
       "1          86.5               71.2       21.09       4.42      74.49      3.0   \n",
       "2          70.0               78.1        3.22       0.25      96.53      1.0   \n",
       "3          97.0              259.5       10.00      15.00      75.00      2.0   \n",
       "4         100.0              497.2        2.22       0.00      97.78      3.0   \n",
       "\n",
       "   Birthrate  Deathrate  Agriculture  Industry  Service  \n",
       "0      46.60      20.34         0.38      0.24     0.38  \n",
       "1      15.11       5.22       232.00    188.00   579.00  \n",
       "2      17.14       4.61       101.00      0.60   298.00  \n",
       "3      22.46       3.27          NaN       NaN      NaN  \n",
       "4       8.71       6.25          NaN       NaN      NaN  "
      ]
     },
     "execution_count": 2,
     "metadata": {},
     "output_type": "execute_result"
    }
   ],
   "source": [
    "#reading the data and correcting the comma separators to be decimals\n",
    "ssl._create_default_https_context = ssl._create_unverified_context\n",
    "df=pd.read_csv('https://raw.githubusercontent.com/RoseWairimuK/Datasets-/main/countries%20of%20the%20world.csv',decimal=\",\")\n",
    "df.head()"
   ]
  },
  {
   "cell_type": "code",
   "execution_count": 3,
   "metadata": {
    "colab": {
     "base_uri": "https://localhost:8080/"
    },
    "id": "aHfuC4QrKZvo",
    "outputId": "8f0333ac-0ef6-4612-bafe-c28f4763761e"
   },
   "outputs": [
    {
     "data": {
      "text/plain": [
       "(227, 20)"
      ]
     },
     "execution_count": 3,
     "metadata": {},
     "output_type": "execute_result"
    }
   ],
   "source": [
    "#checking the rows and columns to confirm the 227 countries\n",
    "df.shape"
   ]
  },
  {
   "cell_type": "code",
   "execution_count": 4,
   "metadata": {
    "colab": {
     "base_uri": "https://localhost:8080/",
     "height": 318
    },
    "id": "BcfGAH5xKZvs",
    "outputId": "0197d3dc-baa9-419a-800d-214918a02ef9"
   },
   "outputs": [
    {
     "data": {
      "text/html": [
       "<div>\n",
       "<style scoped>\n",
       "    .dataframe tbody tr th:only-of-type {\n",
       "        vertical-align: middle;\n",
       "    }\n",
       "\n",
       "    .dataframe tbody tr th {\n",
       "        vertical-align: top;\n",
       "    }\n",
       "\n",
       "    .dataframe thead th {\n",
       "        text-align: right;\n",
       "    }\n",
       "</style>\n",
       "<table border=\"1\" class=\"dataframe\">\n",
       "  <thead>\n",
       "    <tr style=\"text-align: right;\">\n",
       "      <th></th>\n",
       "      <th>Population</th>\n",
       "      <th>Area (sq. mi.)</th>\n",
       "      <th>Pop. Density (per sq. mi.)</th>\n",
       "      <th>Coastline (coast/area ratio)</th>\n",
       "      <th>Net migration</th>\n",
       "      <th>Infant mortality (per 1000 births)</th>\n",
       "      <th>GDP ($ per capita)</th>\n",
       "      <th>Literacy (%)</th>\n",
       "      <th>Phones (per 1000)</th>\n",
       "      <th>Arable (%)</th>\n",
       "      <th>Crops (%)</th>\n",
       "      <th>Other (%)</th>\n",
       "      <th>Climate</th>\n",
       "      <th>Birthrate</th>\n",
       "      <th>Deathrate</th>\n",
       "      <th>Agriculture</th>\n",
       "      <th>Industry</th>\n",
       "      <th>Service</th>\n",
       "    </tr>\n",
       "  </thead>\n",
       "  <tbody>\n",
       "    <tr>\n",
       "      <th>count</th>\n",
       "      <td>2.270000e+02</td>\n",
       "      <td>2.270000e+02</td>\n",
       "      <td>227.000000</td>\n",
       "      <td>227.000000</td>\n",
       "      <td>224.000000</td>\n",
       "      <td>224.000000</td>\n",
       "      <td>226.000000</td>\n",
       "      <td>209.000000</td>\n",
       "      <td>223.000000</td>\n",
       "      <td>225.000000</td>\n",
       "      <td>225.000000</td>\n",
       "      <td>225.000000</td>\n",
       "      <td>205.000000</td>\n",
       "      <td>224.000000</td>\n",
       "      <td>223.000000</td>\n",
       "      <td>212.000000</td>\n",
       "      <td>211.000000</td>\n",
       "      <td>212.000000</td>\n",
       "    </tr>\n",
       "    <tr>\n",
       "      <th>mean</th>\n",
       "      <td>2.874028e+07</td>\n",
       "      <td>5.982270e+05</td>\n",
       "      <td>379.047137</td>\n",
       "      <td>21.165330</td>\n",
       "      <td>0.038125</td>\n",
       "      <td>35.506964</td>\n",
       "      <td>9689.823009</td>\n",
       "      <td>82.838278</td>\n",
       "      <td>236.061435</td>\n",
       "      <td>13.797111</td>\n",
       "      <td>4.564222</td>\n",
       "      <td>81.638311</td>\n",
       "      <td>2.139024</td>\n",
       "      <td>22.114732</td>\n",
       "      <td>9.241345</td>\n",
       "      <td>103.014858</td>\n",
       "      <td>213.869858</td>\n",
       "      <td>393.285377</td>\n",
       "    </tr>\n",
       "    <tr>\n",
       "      <th>std</th>\n",
       "      <td>1.178913e+08</td>\n",
       "      <td>1.790282e+06</td>\n",
       "      <td>1660.185825</td>\n",
       "      <td>72.286863</td>\n",
       "      <td>4.889269</td>\n",
       "      <td>35.389899</td>\n",
       "      <td>10049.138513</td>\n",
       "      <td>19.722173</td>\n",
       "      <td>227.991829</td>\n",
       "      <td>13.040402</td>\n",
       "      <td>8.361470</td>\n",
       "      <td>16.140835</td>\n",
       "      <td>0.699397</td>\n",
       "      <td>11.176716</td>\n",
       "      <td>4.990026</td>\n",
       "      <td>129.336104</td>\n",
       "      <td>178.849522</td>\n",
       "      <td>288.185737</td>\n",
       "    </tr>\n",
       "    <tr>\n",
       "      <th>min</th>\n",
       "      <td>7.026000e+03</td>\n",
       "      <td>2.000000e+00</td>\n",
       "      <td>0.000000</td>\n",
       "      <td>0.000000</td>\n",
       "      <td>-20.990000</td>\n",
       "      <td>2.290000</td>\n",
       "      <td>500.000000</td>\n",
       "      <td>17.600000</td>\n",
       "      <td>0.200000</td>\n",
       "      <td>0.000000</td>\n",
       "      <td>0.000000</td>\n",
       "      <td>33.330000</td>\n",
       "      <td>1.000000</td>\n",
       "      <td>7.290000</td>\n",
       "      <td>2.290000</td>\n",
       "      <td>0.000000</td>\n",
       "      <td>0.020000</td>\n",
       "      <td>0.210000</td>\n",
       "    </tr>\n",
       "    <tr>\n",
       "      <th>25%</th>\n",
       "      <td>4.376240e+05</td>\n",
       "      <td>4.647500e+03</td>\n",
       "      <td>29.150000</td>\n",
       "      <td>0.100000</td>\n",
       "      <td>-0.927500</td>\n",
       "      <td>8.150000</td>\n",
       "      <td>1900.000000</td>\n",
       "      <td>70.600000</td>\n",
       "      <td>37.800000</td>\n",
       "      <td>3.220000</td>\n",
       "      <td>0.190000</td>\n",
       "      <td>71.650000</td>\n",
       "      <td>2.000000</td>\n",
       "      <td>12.672500</td>\n",
       "      <td>5.910000</td>\n",
       "      <td>0.415000</td>\n",
       "      <td>0.395000</td>\n",
       "      <td>0.795000</td>\n",
       "    </tr>\n",
       "    <tr>\n",
       "      <th>50%</th>\n",
       "      <td>4.786994e+06</td>\n",
       "      <td>8.660000e+04</td>\n",
       "      <td>78.800000</td>\n",
       "      <td>0.730000</td>\n",
       "      <td>0.000000</td>\n",
       "      <td>21.000000</td>\n",
       "      <td>5550.000000</td>\n",
       "      <td>92.500000</td>\n",
       "      <td>176.200000</td>\n",
       "      <td>10.420000</td>\n",
       "      <td>1.030000</td>\n",
       "      <td>85.700000</td>\n",
       "      <td>2.000000</td>\n",
       "      <td>18.790000</td>\n",
       "      <td>7.840000</td>\n",
       "      <td>54.000000</td>\n",
       "      <td>231.000000</td>\n",
       "      <td>475.500000</td>\n",
       "    </tr>\n",
       "    <tr>\n",
       "      <th>75%</th>\n",
       "      <td>1.749777e+07</td>\n",
       "      <td>4.418110e+05</td>\n",
       "      <td>190.150000</td>\n",
       "      <td>10.345000</td>\n",
       "      <td>0.997500</td>\n",
       "      <td>55.705000</td>\n",
       "      <td>15700.000000</td>\n",
       "      <td>98.000000</td>\n",
       "      <td>389.650000</td>\n",
       "      <td>20.000000</td>\n",
       "      <td>4.440000</td>\n",
       "      <td>95.440000</td>\n",
       "      <td>3.000000</td>\n",
       "      <td>29.820000</td>\n",
       "      <td>10.605000</td>\n",
       "      <td>163.500000</td>\n",
       "      <td>312.000000</td>\n",
       "      <td>619.750000</td>\n",
       "    </tr>\n",
       "    <tr>\n",
       "      <th>max</th>\n",
       "      <td>1.313974e+09</td>\n",
       "      <td>1.707520e+07</td>\n",
       "      <td>16271.500000</td>\n",
       "      <td>870.660000</td>\n",
       "      <td>23.060000</td>\n",
       "      <td>191.190000</td>\n",
       "      <td>55100.000000</td>\n",
       "      <td>100.000000</td>\n",
       "      <td>1035.600000</td>\n",
       "      <td>62.110000</td>\n",
       "      <td>50.680000</td>\n",
       "      <td>100.000000</td>\n",
       "      <td>4.000000</td>\n",
       "      <td>50.730000</td>\n",
       "      <td>29.740000</td>\n",
       "      <td>769.000000</td>\n",
       "      <td>906.000000</td>\n",
       "      <td>954.000000</td>\n",
       "    </tr>\n",
       "  </tbody>\n",
       "</table>\n",
       "</div>"
      ],
      "text/plain": [
       "         Population  Area (sq. mi.)  Pop. Density (per sq. mi.)  \\\n",
       "count  2.270000e+02    2.270000e+02                  227.000000   \n",
       "mean   2.874028e+07    5.982270e+05                  379.047137   \n",
       "std    1.178913e+08    1.790282e+06                 1660.185825   \n",
       "min    7.026000e+03    2.000000e+00                    0.000000   \n",
       "25%    4.376240e+05    4.647500e+03                   29.150000   \n",
       "50%    4.786994e+06    8.660000e+04                   78.800000   \n",
       "75%    1.749777e+07    4.418110e+05                  190.150000   \n",
       "max    1.313974e+09    1.707520e+07                16271.500000   \n",
       "\n",
       "       Coastline (coast/area ratio)  Net migration  \\\n",
       "count                    227.000000     224.000000   \n",
       "mean                      21.165330       0.038125   \n",
       "std                       72.286863       4.889269   \n",
       "min                        0.000000     -20.990000   \n",
       "25%                        0.100000      -0.927500   \n",
       "50%                        0.730000       0.000000   \n",
       "75%                       10.345000       0.997500   \n",
       "max                      870.660000      23.060000   \n",
       "\n",
       "       Infant mortality (per 1000 births)  GDP ($ per capita)  Literacy (%)  \\\n",
       "count                          224.000000          226.000000    209.000000   \n",
       "mean                            35.506964         9689.823009     82.838278   \n",
       "std                             35.389899        10049.138513     19.722173   \n",
       "min                              2.290000          500.000000     17.600000   \n",
       "25%                              8.150000         1900.000000     70.600000   \n",
       "50%                             21.000000         5550.000000     92.500000   \n",
       "75%                             55.705000        15700.000000     98.000000   \n",
       "max                            191.190000        55100.000000    100.000000   \n",
       "\n",
       "       Phones (per 1000)  Arable (%)   Crops (%)   Other (%)     Climate  \\\n",
       "count         223.000000  225.000000  225.000000  225.000000  205.000000   \n",
       "mean          236.061435   13.797111    4.564222   81.638311    2.139024   \n",
       "std           227.991829   13.040402    8.361470   16.140835    0.699397   \n",
       "min             0.200000    0.000000    0.000000   33.330000    1.000000   \n",
       "25%            37.800000    3.220000    0.190000   71.650000    2.000000   \n",
       "50%           176.200000   10.420000    1.030000   85.700000    2.000000   \n",
       "75%           389.650000   20.000000    4.440000   95.440000    3.000000   \n",
       "max          1035.600000   62.110000   50.680000  100.000000    4.000000   \n",
       "\n",
       "        Birthrate   Deathrate  Agriculture    Industry     Service  \n",
       "count  224.000000  223.000000   212.000000  211.000000  212.000000  \n",
       "mean    22.114732    9.241345   103.014858  213.869858  393.285377  \n",
       "std     11.176716    4.990026   129.336104  178.849522  288.185737  \n",
       "min      7.290000    2.290000     0.000000    0.020000    0.210000  \n",
       "25%     12.672500    5.910000     0.415000    0.395000    0.795000  \n",
       "50%     18.790000    7.840000    54.000000  231.000000  475.500000  \n",
       "75%     29.820000   10.605000   163.500000  312.000000  619.750000  \n",
       "max     50.730000   29.740000   769.000000  906.000000  954.000000  "
      ]
     },
     "execution_count": 4,
     "metadata": {},
     "output_type": "execute_result"
    }
   ],
   "source": [
    "#inspecting the data\n",
    "df.describe()"
   ]
  },
  {
   "cell_type": "markdown",
   "metadata": {
    "id": "L-H9fg2mwRVx"
   },
   "source": [
    "**Section 1 observations summary:**\n",
    "\n",
    "---\n",
    "\n",
    "\n",
    "\n",
    "*   The data contains a total of 20 columns: 19 columns show the various factors and one column is the GDP per capita.\n",
    "*   The summary statistics of the numerical columns confirm the expected variations because this is data for a variety of countries.\n",
    "*   The count row implies there are missing values in some of the columns and this will be investigated in the next section. The column titles are also not ideal and will need to be harmonised.\n",
    "\n",
    "\n",
    "---\n",
    "\n"
   ]
  },
  {
   "cell_type": "markdown",
   "metadata": {
    "id": "SyxdRUgxB92B"
   },
   "source": [
    "#  **Section 2) Data Cleaning**\n",
    "\n",
    "With such a large dataset it is imperative to understand the initial state of the data, identify the issues that may affect my data modelling and correct these issues. The next section covers this.\n",
    "\n",
    "\n",
    "\n",
    "\n",
    "\n",
    "\n",
    "\n"
   ]
  },
  {
   "cell_type": "markdown",
   "metadata": {
    "id": "i7NcaMLz6IlD"
   },
   "source": [
    "## **2.1) Identifying problems**\n",
    "\n",
    "\n",
    "\n",
    "\n",
    "\n",
    "\n",
    "\n",
    "\n"
   ]
  },
  {
   "cell_type": "code",
   "execution_count": 5,
   "metadata": {
    "colab": {
     "base_uri": "https://localhost:8080/"
    },
    "id": "SDfxqBWbf3In",
    "outputId": "47d26d86-4435-474f-feb2-bf5a212fe230"
   },
   "outputs": [
    {
     "data": {
      "text/plain": [
       "Index(['Country', 'Region', 'Population', 'Area (sq. mi.)',\n",
       "       'Pop. Density (per sq. mi.)', 'Coastline (coast/area ratio)',\n",
       "       'Net migration', 'Infant mortality (per 1000 births)',\n",
       "       'GDP ($ per capita)', 'Literacy (%)', 'Phones (per 1000)', 'Arable (%)',\n",
       "       'Crops (%)', 'Other (%)', 'Climate', 'Birthrate', 'Deathrate',\n",
       "       'Agriculture', 'Industry', 'Service'],\n",
       "      dtype='object')"
      ]
     },
     "execution_count": 5,
     "metadata": {},
     "output_type": "execute_result"
    }
   ],
   "source": [
    "#viewing the columns.\n",
    "df.columns"
   ]
  },
  {
   "cell_type": "code",
   "execution_count": 6,
   "metadata": {
    "colab": {
     "base_uri": "https://localhost:8080/"
    },
    "id": "9ujFfZD4KKB3",
    "outputId": "9ce425fd-9a02-4a47-cb4c-cf1c1136246e"
   },
   "outputs": [
    {
     "data": {
      "text/plain": [
       "Index(['Country', 'Region', 'Population', 'Area_Sq_m', 'Pop. Density_per_sq_m',\n",
       "       'Coastline_coast_area_ratio', 'Net migration',\n",
       "       'Infant_mortality_per_1000_births', 'GDP_$_per_capita', 'Literacy_%',\n",
       "       'Phones_per_1000', 'Arable_%', 'Crops_%', 'Other_%', 'Climate',\n",
       "       'Birthrate', 'Deathrate', 'Agriculture', 'Industry', 'Service'],\n",
       "      dtype='object')"
      ]
     },
     "execution_count": 6,
     "metadata": {},
     "output_type": "execute_result"
    }
   ],
   "source": [
    "#renaming columns for ease of referencing and graphics\n",
    "df.rename(columns={'Area (sq. mi.)': 'Area_Sq_m', 'Coastline (coast/area ratio)': 'Coastline_coast_area_ratio','Infant mortality (per 1000 births)': 'Infant_mortality_per_1000_births','GDP ($ per capita)': 'GDP_$_per_capita','Phones (per 1000)': 'Phones_per_1000','Pop. Density (per sq. mi.)': 'Pop. Density_per_sq_m','Literacy (%)': 'Literacy_%','Arable (%)': 'Arable_%', 'Crops (%)': 'Crops_%', 'Other (%)': 'Other_%'}, inplace=True)\n",
    "df.columns"
   ]
  },
  {
   "cell_type": "code",
   "execution_count": 7,
   "metadata": {
    "colab": {
     "base_uri": "https://localhost:8080/",
     "height": 689
    },
    "id": "m9hluxsyUClV",
    "outputId": "0dadde59-21cf-41fe-a181-f58997eefe4c"
   },
   "outputs": [
    {
     "data": {
      "image/png": "[encoded data removed]",
      "text/plain": [
       "<Figure size 800x550 with 1 Axes>"
      ]
     },
     "metadata": {},
     "output_type": "display_data"
    }
   ],
   "source": [
    "#checking for outliers. None, except for variations in the population per country as expected.\n",
    "sns.boxplot(data = df)\n",
    "plt.xticks(rotation=90);"
   ]
  },
  {
   "cell_type": "code",
   "execution_count": 8,
   "metadata": {
    "colab": {
     "base_uri": "https://localhost:8080/"
    },
    "id": "DsHnCskWX-n0",
    "outputId": "87606d89-eff6-4f88-80dd-a3e958c95a0e"
   },
   "outputs": [
    {
     "data": {
      "text/plain": [
       "Country                              object\n",
       "Region                               object\n",
       "Population                            int64\n",
       "Area_Sq_m                             int64\n",
       "Pop. Density_per_sq_m               float64\n",
       "Coastline_coast_area_ratio          float64\n",
       "Net migration                       float64\n",
       "Infant_mortality_per_1000_births    float64\n",
       "GDP_$_per_capita                    float64\n",
       "Literacy_%                          float64\n",
       "Phones_per_1000                     float64\n",
       "Arable_%                            float64\n",
       "Crops_%                             float64\n",
       "Other_%                             float64\n",
       "Climate                             float64\n",
       "Birthrate                           float64\n",
       "Deathrate                           float64\n",
       "Agriculture                         float64\n",
       "Industry                            float64\n",
       "Service                             float64\n",
       "dtype: object"
      ]
     },
     "execution_count": 8,
     "metadata": {},
     "output_type": "execute_result"
    }
   ],
   "source": [
    "#visualising the data types. No further action needed\n",
    "df.dtypes"
   ]
  },
  {
   "cell_type": "code",
   "execution_count": 9,
   "metadata": {
    "colab": {
     "base_uri": "https://localhost:8080/"
    },
    "id": "pZ_mSIXD0UXZ",
    "outputId": "a0fb16dc-d24f-4bcc-900b-85fe7b0ba7e6"
   },
   "outputs": [
    {
     "data": {
      "text/plain": [
       "Country                             False\n",
       "Region                              False\n",
       "Population                          False\n",
       "Area_Sq_m                           False\n",
       "Pop. Density_per_sq_m               False\n",
       "Coastline_coast_area_ratio          False\n",
       "Net migration                        True\n",
       "Infant_mortality_per_1000_births     True\n",
       "GDP_$_per_capita                     True\n",
       "Literacy_%                           True\n",
       "Phones_per_1000                      True\n",
       "Arable_%                             True\n",
       "Crops_%                              True\n",
       "Other_%                              True\n",
       "Climate                              True\n",
       "Birthrate                            True\n",
       "Deathrate                            True\n",
       "Agriculture                          True\n",
       "Industry                             True\n",
       "Service                              True\n",
       "dtype: bool"
      ]
     },
     "execution_count": 9,
     "metadata": {},
     "output_type": "execute_result"
    }
   ],
   "source": [
    "#checking nill values in the data set. Out of the 20 clumns 14 have nill values\n",
    "df.isnull().any()"
   ]
  },
  {
   "cell_type": "code",
   "execution_count": 10,
   "metadata": {},
   "outputs": [
    {
     "data": {
      "text/html": [
       "<style type=\"text/css\">\n",
       "#T_4c62a_row6_col0, #T_4c62a_row7_col0, #T_4c62a_row8_col0, #T_4c62a_row9_col0, #T_4c62a_row10_col0, #T_4c62a_row11_col0, #T_4c62a_row12_col0, #T_4c62a_row13_col0, #T_4c62a_row14_col0, #T_4c62a_row15_col0, #T_4c62a_row16_col0, #T_4c62a_row17_col0, #T_4c62a_row18_col0, #T_4c62a_row19_col0 {\n",
       "  background-color: lightblue;\n",
       "}\n",
       "</style>\n",
       "<table id=\"T_4c62a\">\n",
       "  <thead>\n",
       "    <tr>\n",
       "      <th class=\"blank level0\" >&nbsp;</th>\n",
       "      <th id=\"T_4c62a_level0_col0\" class=\"col_heading level0 col0\" >NA Count</th>\n",
       "      <th id=\"T_4c62a_level0_col1\" class=\"col_heading level0 col1\" >NA Percent</th>\n",
       "    </tr>\n",
       "  </thead>\n",
       "  <tbody>\n",
       "    <tr>\n",
       "      <th id=\"T_4c62a_level0_row0\" class=\"row_heading level0 row0\" >Country</th>\n",
       "      <td id=\"T_4c62a_row0_col0\" class=\"data row0 col0\" >0</td>\n",
       "      <td id=\"T_4c62a_row0_col1\" class=\"data row0 col1\" >0.00%</td>\n",
       "    </tr>\n",
       "    <tr>\n",
       "      <th id=\"T_4c62a_level0_row1\" class=\"row_heading level0 row1\" >Region</th>\n",
       "      <td id=\"T_4c62a_row1_col0\" class=\"data row1 col0\" >0</td>\n",
       "      <td id=\"T_4c62a_row1_col1\" class=\"data row1 col1\" >0.00%</td>\n",
       "    </tr>\n",
       "    <tr>\n",
       "      <th id=\"T_4c62a_level0_row2\" class=\"row_heading level0 row2\" >Population</th>\n",
       "      <td id=\"T_4c62a_row2_col0\" class=\"data row2 col0\" >0</td>\n",
       "      <td id=\"T_4c62a_row2_col1\" class=\"data row2 col1\" >0.00%</td>\n",
       "    </tr>\n",
       "    <tr>\n",
       "      <th id=\"T_4c62a_level0_row3\" class=\"row_heading level0 row3\" >Area_Sq_m</th>\n",
       "      <td id=\"T_4c62a_row3_col0\" class=\"data row3 col0\" >0</td>\n",
       "      <td id=\"T_4c62a_row3_col1\" class=\"data row3 col1\" >0.00%</td>\n",
       "    </tr>\n",
       "    <tr>\n",
       "      <th id=\"T_4c62a_level0_row4\" class=\"row_heading level0 row4\" >Pop. Density_per_sq_m</th>\n",
       "      <td id=\"T_4c62a_row4_col0\" class=\"data row4 col0\" >0</td>\n",
       "      <td id=\"T_4c62a_row4_col1\" class=\"data row4 col1\" >0.00%</td>\n",
       "    </tr>\n",
       "    <tr>\n",
       "      <th id=\"T_4c62a_level0_row5\" class=\"row_heading level0 row5\" >Coastline_coast_area_ratio</th>\n",
       "      <td id=\"T_4c62a_row5_col0\" class=\"data row5 col0\" >0</td>\n",
       "      <td id=\"T_4c62a_row5_col1\" class=\"data row5 col1\" >0.00%</td>\n",
       "    </tr>\n",
       "    <tr>\n",
       "      <th id=\"T_4c62a_level0_row6\" class=\"row_heading level0 row6\" >Net migration</th>\n",
       "      <td id=\"T_4c62a_row6_col0\" class=\"data row6 col0\" >3</td>\n",
       "      <td id=\"T_4c62a_row6_col1\" class=\"data row6 col1\" >1.32%</td>\n",
       "    </tr>\n",
       "    <tr>\n",
       "      <th id=\"T_4c62a_level0_row7\" class=\"row_heading level0 row7\" >Infant_mortality_per_1000_births</th>\n",
       "      <td id=\"T_4c62a_row7_col0\" class=\"data row7 col0\" >3</td>\n",
       "      <td id=\"T_4c62a_row7_col1\" class=\"data row7 col1\" >1.32%</td>\n",
       "    </tr>\n",
       "    <tr>\n",
       "      <th id=\"T_4c62a_level0_row8\" class=\"row_heading level0 row8\" >GDP_$_per_capita</th>\n",
       "      <td id=\"T_4c62a_row8_col0\" class=\"data row8 col0\" >1</td>\n",
       "      <td id=\"T_4c62a_row8_col1\" class=\"data row8 col1\" >0.44%</td>\n",
       "    </tr>\n",
       "    <tr>\n",
       "      <th id=\"T_4c62a_level0_row9\" class=\"row_heading level0 row9\" >Literacy_%</th>\n",
       "      <td id=\"T_4c62a_row9_col0\" class=\"data row9 col0\" >18</td>\n",
       "      <td id=\"T_4c62a_row9_col1\" class=\"data row9 col1\" >7.93%</td>\n",
       "    </tr>\n",
       "    <tr>\n",
       "      <th id=\"T_4c62a_level0_row10\" class=\"row_heading level0 row10\" >Phones_per_1000</th>\n",
       "      <td id=\"T_4c62a_row10_col0\" class=\"data row10 col0\" >4</td>\n",
       "      <td id=\"T_4c62a_row10_col1\" class=\"data row10 col1\" >1.76%</td>\n",
       "    </tr>\n",
       "    <tr>\n",
       "      <th id=\"T_4c62a_level0_row11\" class=\"row_heading level0 row11\" >Arable_%</th>\n",
       "      <td id=\"T_4c62a_row11_col0\" class=\"data row11 col0\" >2</td>\n",
       "      <td id=\"T_4c62a_row11_col1\" class=\"data row11 col1\" >0.88%</td>\n",
       "    </tr>\n",
       "    <tr>\n",
       "      <th id=\"T_4c62a_level0_row12\" class=\"row_heading level0 row12\" >Crops_%</th>\n",
       "      <td id=\"T_4c62a_row12_col0\" class=\"data row12 col0\" >2</td>\n",
       "      <td id=\"T_4c62a_row12_col1\" class=\"data row12 col1\" >0.88%</td>\n",
       "    </tr>\n",
       "    <tr>\n",
       "      <th id=\"T_4c62a_level0_row13\" class=\"row_heading level0 row13\" >Other_%</th>\n",
       "      <td id=\"T_4c62a_row13_col0\" class=\"data row13 col0\" >2</td>\n",
       "      <td id=\"T_4c62a_row13_col1\" class=\"data row13 col1\" >0.88%</td>\n",
       "    </tr>\n",
       "    <tr>\n",
       "      <th id=\"T_4c62a_level0_row14\" class=\"row_heading level0 row14\" >Climate</th>\n",
       "      <td id=\"T_4c62a_row14_col0\" class=\"data row14 col0\" >22</td>\n",
       "      <td id=\"T_4c62a_row14_col1\" class=\"data row14 col1\" >9.69%</td>\n",
       "    </tr>\n",
       "    <tr>\n",
       "      <th id=\"T_4c62a_level0_row15\" class=\"row_heading level0 row15\" >Birthrate</th>\n",
       "      <td id=\"T_4c62a_row15_col0\" class=\"data row15 col0\" >3</td>\n",
       "      <td id=\"T_4c62a_row15_col1\" class=\"data row15 col1\" >1.32%</td>\n",
       "    </tr>\n",
       "    <tr>\n",
       "      <th id=\"T_4c62a_level0_row16\" class=\"row_heading level0 row16\" >Deathrate</th>\n",
       "      <td id=\"T_4c62a_row16_col0\" class=\"data row16 col0\" >4</td>\n",
       "      <td id=\"T_4c62a_row16_col1\" class=\"data row16 col1\" >1.76%</td>\n",
       "    </tr>\n",
       "    <tr>\n",
       "      <th id=\"T_4c62a_level0_row17\" class=\"row_heading level0 row17\" >Agriculture</th>\n",
       "      <td id=\"T_4c62a_row17_col0\" class=\"data row17 col0\" >15</td>\n",
       "      <td id=\"T_4c62a_row17_col1\" class=\"data row17 col1\" >6.61%</td>\n",
       "    </tr>\n",
       "    <tr>\n",
       "      <th id=\"T_4c62a_level0_row18\" class=\"row_heading level0 row18\" >Industry</th>\n",
       "      <td id=\"T_4c62a_row18_col0\" class=\"data row18 col0\" >16</td>\n",
       "      <td id=\"T_4c62a_row18_col1\" class=\"data row18 col1\" >7.05%</td>\n",
       "    </tr>\n",
       "    <tr>\n",
       "      <th id=\"T_4c62a_level0_row19\" class=\"row_heading level0 row19\" >Service</th>\n",
       "      <td id=\"T_4c62a_row19_col0\" class=\"data row19 col0\" >15</td>\n",
       "      <td id=\"T_4c62a_row19_col1\" class=\"data row19 col1\" >6.61%</td>\n",
       "    </tr>\n",
       "  </tbody>\n",
       "</table>\n"
      ],
      "text/plain": [
       "<pandas.io.formats.style.Styler at 0x7fbce1724d90>"
      ]
     },
     "execution_count": 10,
     "metadata": {},
     "output_type": "execute_result"
    }
   ],
   "source": [
    "# Function to apply background gradient\n",
    "def background_gradient(val):\n",
    "    if isinstance(val, (int, float)):\n",
    "        color = 'background-color: lightblue' if val > 0 else ''\n",
    "        return color\n",
    "    return ''\n",
    "\n",
    "# Create DataFrame with NA count and percentage\n",
    "NA = pd.DataFrame(data=[df.isna().sum().tolist(), [\"{:.2f}\".format(i)+'%' \\\n",
    "                       for i in (df.isna().sum()/df.shape[0]*100).tolist()]],\n",
    "                       columns=df.columns, index=['NA Count', 'NA Percent']).transpose()\n",
    "\n",
    "# Apply background gradient using the custom function\n",
    "styled_df = NA.style.applymap(background_gradient, subset=['NA Count'])\n",
    "\n",
    "# Display styled DataFrame\n",
    "styled_df"
   ]
  },
  {
   "cell_type": "code",
   "execution_count": 11,
   "metadata": {
    "colab": {
     "base_uri": "https://localhost:8080/",
     "height": 1000
    },
    "id": "aN674GfjbD3N",
    "outputId": "c2fb68d7-df7f-4814-a462-28330645b03e"
   },
   "outputs": [
    {
     "data": {
      "text/plain": [
       "<AxesSubplot:>"
      ]
     },
     "execution_count": 11,
     "metadata": {},
     "output_type": "execute_result"
    },
    {
     "data": {
      "image/png": "[encoded data removed]",
      "text/plain": [
       "<Figure size 2500x1000 with 2 Axes>"
      ]
     },
     "metadata": {},
     "output_type": "display_data"
    }
   ],
   "source": [
    "#visualising the nulls\n",
    "mn.matrix(df)"
   ]
  },
  {
   "cell_type": "markdown",
   "metadata": {
    "id": "4qhB9iENIsE0"
   },
   "source": [
    "##  **2.2) Filling the missing values**\n",
    "\n",
    "1.   Countries that are close geologically are often similar in many ways and hence in the next section I proceed to fill in the null values using the median of the specific region that a country belongs to.  \n",
    "2.   For categorical features like climate, I use the mode instead of median to maintain the consistency in the ratings. For instance, the climate variable in the dataset is ranked from 1-4 hence the mode maintains this rating.\n",
    "\n",
    "\n",
    "\n",
    "\n",
    "\n",
    "\n",
    "\n",
    "\n"
   ]
  },
  {
   "cell_type": "code",
   "execution_count": 12,
   "metadata": {
    "colab": {
     "base_uri": "https://localhost:8080/",
     "height": 426
    },
    "id": "R10fe6i2KuSR",
    "outputId": "6681c548-3975-4f99-d839-e2d648c4fffc"
   },
   "outputs": [
    {
     "data": {
      "text/html": [
       "<div>\n",
       "<style scoped>\n",
       "    .dataframe tbody tr th:only-of-type {\n",
       "        vertical-align: middle;\n",
       "    }\n",
       "\n",
       "    .dataframe tbody tr th {\n",
       "        vertical-align: top;\n",
       "    }\n",
       "\n",
       "    .dataframe thead th {\n",
       "        text-align: right;\n",
       "    }\n",
       "</style>\n",
       "<table border=\"1\" class=\"dataframe\">\n",
       "  <thead>\n",
       "    <tr style=\"text-align: right;\">\n",
       "      <th></th>\n",
       "      <th>GDP_$_per_capita</th>\n",
       "      <th>Literacy_%</th>\n",
       "      <th>Agriculture</th>\n",
       "    </tr>\n",
       "    <tr>\n",
       "      <th>Region</th>\n",
       "      <th></th>\n",
       "      <th></th>\n",
       "      <th></th>\n",
       "    </tr>\n",
       "  </thead>\n",
       "  <tbody>\n",
       "    <tr>\n",
       "      <th>ASIA (EX. NEAR EAST)</th>\n",
       "      <td>3450.0</td>\n",
       "      <td>90.60</td>\n",
       "      <td>92.00</td>\n",
       "    </tr>\n",
       "    <tr>\n",
       "      <th>BALTICS</th>\n",
       "      <td>11400.0</td>\n",
       "      <td>99.80</td>\n",
       "      <td>0.04</td>\n",
       "    </tr>\n",
       "    <tr>\n",
       "      <th>C.W. OF IND. STATES</th>\n",
       "      <td>3450.0</td>\n",
       "      <td>99.05</td>\n",
       "      <td>198.00</td>\n",
       "    </tr>\n",
       "    <tr>\n",
       "      <th>EASTERN EUROPE</th>\n",
       "      <td>9100.0</td>\n",
       "      <td>98.60</td>\n",
       "      <td>65.00</td>\n",
       "    </tr>\n",
       "    <tr>\n",
       "      <th>LATIN AMER. &amp; CARIB</th>\n",
       "      <td>6300.0</td>\n",
       "      <td>94.05</td>\n",
       "      <td>35.00</td>\n",
       "    </tr>\n",
       "    <tr>\n",
       "      <th>NEAR EAST</th>\n",
       "      <td>9250.0</td>\n",
       "      <td>83.00</td>\n",
       "      <td>26.50</td>\n",
       "    </tr>\n",
       "    <tr>\n",
       "      <th>NORTHERN AFRICA</th>\n",
       "      <td>6000.0</td>\n",
       "      <td>70.00</td>\n",
       "      <td>132.00</td>\n",
       "    </tr>\n",
       "    <tr>\n",
       "      <th>NORTHERN AMERICA</th>\n",
       "      <td>29800.0</td>\n",
       "      <td>97.50</td>\n",
       "      <td>0.01</td>\n",
       "    </tr>\n",
       "    <tr>\n",
       "      <th>OCEANIA</th>\n",
       "      <td>5000.0</td>\n",
       "      <td>95.00</td>\n",
       "      <td>75.50</td>\n",
       "    </tr>\n",
       "    <tr>\n",
       "      <th>SUB-SAHARAN AFRICA</th>\n",
       "      <td>1300.0</td>\n",
       "      <td>62.95</td>\n",
       "      <td>163.00</td>\n",
       "    </tr>\n",
       "    <tr>\n",
       "      <th>WESTERN EUROPE</th>\n",
       "      <td>27200.0</td>\n",
       "      <td>99.00</td>\n",
       "      <td>9.00</td>\n",
       "    </tr>\n",
       "  </tbody>\n",
       "</table>\n",
       "</div>"
      ],
      "text/plain": [
       "                                     GDP_$_per_capita  Literacy_%  Agriculture\n",
       "Region                                                                        \n",
       "ASIA (EX. NEAR EAST)                           3450.0       90.60        92.00\n",
       "BALTICS                                       11400.0       99.80         0.04\n",
       "C.W. OF IND. STATES                            3450.0       99.05       198.00\n",
       "EASTERN EUROPE                                 9100.0       98.60        65.00\n",
       "LATIN AMER. & CARIB                            6300.0       94.05        35.00\n",
       "NEAR EAST                                      9250.0       83.00        26.50\n",
       "NORTHERN AFRICA                                6000.0       70.00       132.00\n",
       "NORTHERN AMERICA                              29800.0       97.50         0.01\n",
       "OCEANIA                                        5000.0       95.00        75.50\n",
       "SUB-SAHARAN AFRICA                             1300.0       62.95       163.00\n",
       "WESTERN EUROPE                                27200.0       99.00         9.00"
      ]
     },
     "execution_count": 12,
     "metadata": {},
     "output_type": "execute_result"
    }
   ],
   "source": [
    "#grouping by region to inspect the medians.\n",
    "df.groupby('Region')[['GDP_$_per_capita','Literacy_%','Agriculture']].median()"
   ]
  },
  {
   "cell_type": "markdown",
   "metadata": {
    "id": "_AeTwb4OOh_1"
   },
   "source": [
    "-> For more clarity on the countries found in the regions that are not commonly known:\n",
    "\n",
    "\n",
    "\n",
    "\n",
    "*   Near East - Bahrain, Cyprus, Gaza, Iraq, Israel, Jordan, Kuwait, Lebanon, Oman, Qatar, Saudi, Syria, Turkey, UAE, West Bank and Yemen.\n",
    "*   Baltics - Estonia, Latvia and Lithuania\n",
    "*   C.W. OF Ind States (Commonwealth of Independent States) - Armenia, Azerbaijan,Belarus, Georgia, Kazakhstan, Kyrgyzstan, Moldova, Russia, Tajikistan, Turmenistan, Ukraine and Uzbekistan\n",
    "\n",
    "\n",
    "\n",
    "\n"
   ]
  },
  {
   "cell_type": "code",
   "execution_count": 13,
   "metadata": {
    "colab": {
     "base_uri": "https://localhost:8080/"
    },
    "id": "Rgoq08u9PpEq",
    "outputId": "d75273b9-3a8a-42ba-8315-0141e532b11a"
   },
   "outputs": [],
   "source": [
    "#filling the missing values\n",
    "warnings.filterwarnings('ignore')\n",
    "for col in df.columns.values:\n",
    "    if df[col].isnull().sum() == 0:\n",
    "        continue\n",
    "    if col == 'Climate':\n",
    "        fill_values = df.groupby('Region')['Climate'].apply(lambda x: x.mode().max())\n",
    "    else:\n",
    "        fill_values = df.groupby('Region')[col].median()\n",
    "    for region in df['Region'].unique():\n",
    "        df[col].loc[(df[col].isnull())&(df['Region']==region)] = fill_values[region]"
   ]
  },
  {
   "cell_type": "code",
   "execution_count": 14,
   "metadata": {
    "colab": {
     "base_uri": "https://localhost:8080/"
    },
    "id": "fMA6M2rSQKc_",
    "outputId": "cc94cba9-0fb5-4d32-fb3d-435885509338"
   },
   "outputs": [
    {
     "data": {
      "text/plain": [
       "Country                             False\n",
       "Region                              False\n",
       "Population                          False\n",
       "Area_Sq_m                           False\n",
       "Pop. Density_per_sq_m               False\n",
       "Coastline_coast_area_ratio          False\n",
       "Net migration                       False\n",
       "Infant_mortality_per_1000_births    False\n",
       "GDP_$_per_capita                    False\n",
       "Literacy_%                          False\n",
       "Phones_per_1000                     False\n",
       "Arable_%                            False\n",
       "Crops_%                             False\n",
       "Other_%                             False\n",
       "Climate                             False\n",
       "Birthrate                           False\n",
       "Deathrate                           False\n",
       "Agriculture                         False\n",
       "Industry                            False\n",
       "Service                             False\n",
       "dtype: bool"
      ]
     },
     "execution_count": 14,
     "metadata": {},
     "output_type": "execute_result"
    }
   ],
   "source": [
    "#confirming there are no missing values\n",
    "df.isnull().any()"
   ]
  },
  {
   "cell_type": "code",
   "execution_count": 15,
   "metadata": {
    "colab": {
     "base_uri": "https://localhost:8080/",
     "height": 1000
    },
    "id": "jOLRCTrMQslF",
    "outputId": "ae82a813-da93-4b48-9c03-b39dfd813297"
   },
   "outputs": [
    {
     "data": {
      "text/plain": [
       "<AxesSubplot:>"
      ]
     },
     "execution_count": 15,
     "metadata": {},
     "output_type": "execute_result"
    },
    {
     "data": {
      "image/png": "[encoded data removed]",
      "text/plain": [
       "<Figure size 2500x1000 with 2 Axes>"
      ]
     },
     "metadata": {},
     "output_type": "display_data"
    }
   ],
   "source": [
    "#visual confirming the clean data\n",
    "mn.matrix(df)"
   ]
  },
  {
   "cell_type": "markdown",
   "metadata": {
    "id": "JVkNRneM-ltw"
   },
   "source": [
    "**Section 2 observations summary:**\n",
    "\n",
    "---\n",
    "\n",
    "In preparation for data modelling the identified data issues have now been resolved as follows:\n",
    "\n",
    "*   Column titles have been renamed for clarity as well as ease of referencing in code.\n",
    "*   Missing values have been filled using the median and mode that aligns with the respective regions countries belong to.\n",
    "*  After inspecting the outliers identified, these were only evident in the population column as different countries have varying populations. There were not eliminated so as to maintain the accuracy and integrity of the underlying assumptions.\n",
    "\n",
    "\n",
    "---\n",
    "\n"
   ]
  },
  {
   "cell_type": "markdown",
   "metadata": {
    "id": "X_sza3wZxEDO"
   },
   "source": [
    "#  **Section 3) Data Exploration**\n",
    "\n",
    "The next sections explore the data to answer two questions from my objectives:\n",
    "\n",
    "\n",
    "1.   **Which countries have the highest and lowest GDP per Capita and are the same factors influencial in both groups?**\n",
    "\n",
    "2. **What factors are most strongly correlated with the GDP per capita of a country?**"
   ]
  },
  {
   "cell_type": "markdown",
   "metadata": {
    "id": "n8wUL34tR7Ko"
   },
   "source": [
    "##  **3.1) Regions and Countries with the highest and lowest GDP per capita**\n"
   ]
  },
  {
   "cell_type": "code",
   "execution_count": null,
   "metadata": {
    "colab": {
     "base_uri": "https://localhost:8080/",
     "height": 762
    },
    "id": "zmmqkQmxVU_z",
    "outputId": "186ad049-0499-4296-ff99-1873257b05d6"
   },
   "outputs": [],
   "source": [
    "#ranking the regions\n",
    "fig, ax = plt.subplots(figsize=(16,6))\n",
    "#ax = fig.add_subplot(111)\n",
    "top_gdp_regions = df.groupby('Region')['GDP_$_per_capita'].mean().sort_values(ascending=False).reset_index().head(25)\n",
    "mean = pd.DataFrame({'Region':['WORLD MEAN'], 'GDP_$_per_capita':[df['GDP_$_per_capita'].mean()]})\n",
    "gdps = pd.concat([top_gdp_regions[['Region','GDP_$_per_capita']],mean],ignore_index=True)\n",
    "\n",
    "sns.barplot(data = gdps, x='Region', y='GDP_$_per_capita', alpha=0.7, color='#006838')\n",
    "ax.set_xlabel(ax.get_xlabel(),labelpad=15)\n",
    "ax.set_ylabel(ax.get_ylabel(),labelpad=30)\n",
    "ax.xaxis.label.set_fontsize(10)\n",
    "plt.xticks(rotation=90)\n",
    "plt.show()\n",
    "\n"
   ]
  },
  {
   "cell_type": "code",
   "execution_count": null,
   "metadata": {
    "colab": {
     "base_uri": "https://localhost:8080/",
     "height": 654
    },
    "id": "fASLN0l5MahY",
    "outputId": "7ae97c30-cbd6-4efb-e842-43a4e765e799"
   },
   "outputs": [],
   "source": [
    "#ranking the top 25 countries\n",
    "fig, ax = plt.subplots(figsize=(16,6))\n",
    "top_gdp_countries = df.sort_values('GDP_$_per_capita',ascending=False).head(25)\n",
    "mean = pd.DataFrame({'Country':['WORLD MEAN'], 'GDP_$_per_capita':[df['GDP_$_per_capita'].mean()]})\n",
    "gdps = pd.concat([top_gdp_countries[['Country','GDP_$_per_capita']],mean],ignore_index=True)\n",
    "sns.barplot(data = gdps, x='Country', y='GDP_$_per_capita', alpha=0.7, color='#006838')\n",
    "ax.set_xlabel(ax.get_xlabel(),labelpad=15)\n",
    "ax.set_ylabel(ax.get_ylabel(),labelpad=30)\n",
    "ax.xaxis.label.set_fontsize(16)\n",
    "ax.yaxis.label.set_fontsize(16)\n",
    "plt.xticks(rotation=90)\n",
    "plt.show()"
   ]
  },
  {
   "cell_type": "code",
   "execution_count": null,
   "metadata": {
    "colab": {
     "base_uri": "https://localhost:8080/",
     "height": 686
    },
    "id": "BdlhNyOHxjyQ",
    "outputId": "8a369464-4553-43ec-976e-ae309eb51ce4"
   },
   "outputs": [],
   "source": [
    "#ranking the last 25 countries\n",
    "fig, ax = plt.subplots(figsize=(16,6))\n",
    "\n",
    "top_gdp_countries = df.sort_values('GDP_$_per_capita',ascending=False).tail(25)\n",
    "mean = pd.DataFrame({'Country':['WORLD MEAN'], 'GDP_$_per_capita':[df['GDP_$_per_capita'].mean()]})\n",
    "gdps = pd.concat([top_gdp_countries[['Country','GDP_$_per_capita']],mean],ignore_index=True)\n",
    "sns.barplot(data = gdps, x='Country', y='GDP_$_per_capita', alpha=0.7, color='#006838')\n",
    "ax.set_xlabel(ax.get_xlabel(),labelpad=15)\n",
    "ax.set_ylabel(ax.get_ylabel(),labelpad=30)\n",
    "ax.xaxis.label.set_fontsize(16)\n",
    "ax.yaxis.label.set_fontsize(16)\n",
    "plt.xticks(rotation=90)\n",
    "plt.show()"
   ]
  },
  {
   "cell_type": "markdown",
   "metadata": {
    "id": "-hjY5ncEKEEn"
   },
   "source": [
    "**Section 3.1 observations summary:**\n",
    "\n",
    "---\n",
    "\n",
    "\n",
    "*   The top 2 regions are Western Europe and Nothern America while Commonwealth of Independent States and Sun-Saharan Africa report the least GDP per capita.\n",
    "*   In the leading Western Europe region,  Luxembourg and the United States are the countries with the highest GDP per capita. It is noteworthy that theirs is more than 3 times the world average.  \n",
    "*   In the lagging Sub-Saharan Region, Somalia and Sierra Leone report the lowest GDP per Capita. Kenya is among the least 25 countries meaning it is ranked 203rd in the dataset as shown above.\n",
    "*   In the modelling sections, it will be imperative to check whether the predicted values for the leading and lagging regions will differ, noting the huge variation in overall GDP per capita.\n",
    "\n",
    "\n",
    "\n",
    "\n",
    "---\n",
    "\n"
   ]
  },
  {
   "cell_type": "markdown",
   "metadata": {
    "id": "sIwX8HuUPvI5"
   },
   "source": [
    "##  **3.2) Correlation between the variables**\n"
   ]
  },
  {
   "cell_type": "code",
   "execution_count": null,
   "metadata": {
    "colab": {
     "base_uri": "https://localhost:8080/",
     "height": 1000
    },
    "id": "ICellxfoVVq0",
    "outputId": "90544708-1fab-4b88-f2d2-473a9af2bd64"
   },
   "outputs": [],
   "source": [
    "#correlation between the variables\n",
    "plt.figure(figsize=(16,12))\n",
    "sns.heatmap(data=df.iloc[:,2:].corr(),annot=True,fmt='.2f',cmap='RdBu')\n",
    "plt.show()"
   ]
  },
  {
   "cell_type": "code",
   "execution_count": null,
   "metadata": {
    "colab": {
     "base_uri": "https://localhost:8080/",
     "height": 1000
    },
    "id": "lJ7OcoC6YIx7",
    "outputId": "dcc09940-1498-4e5a-8a45-a6f261d0109d"
   },
   "outputs": [],
   "source": [
    "#top factors affecting GDP per capita\n",
    "fig, axes = plt.subplots(nrows=2, ncols=3, figsize=(20,12))\n",
    "plt.subplots_adjust(hspace=0.4)\n",
    "\n",
    "corr_to_gdp = pd.Series()\n",
    "for col in df.columns.values[2:]:\n",
    "    if ((col!='GDP_$_per_capita')&(col!='Climate')):\n",
    "        corr_to_gdp[col] = df['GDP_$_per_capita'].corr(df[col])\n",
    "abs_corr_to_gdp = corr_to_gdp.abs().sort_values(ascending=False)\n",
    "corr_to_gdp = corr_to_gdp.loc[abs_corr_to_gdp.index]\n",
    "\n",
    "for i in range(2):\n",
    "    for j in range(3):\n",
    "        sns.regplot(x=corr_to_gdp.index.values[i*3+j], y='GDP_$_per_capita', data=df,\n",
    "                   ax=axes[i,j], fit_reg=False, marker='.')\n",
    "        title = 'correlation='+str(corr_to_gdp[i*3+j])\n",
    "        axes[i,j].set_title(title)\n",
    "axes[1,2].set_xlim(0,102)\n",
    "plt.show()"
   ]
  },
  {
   "cell_type": "code",
   "execution_count": null,
   "metadata": {
    "colab": {
     "base_uri": "https://localhost:8080/",
     "height": 1000
    },
    "id": "i1VuoHI96tFW",
    "outputId": "1e9307f3-35ba-4a05-ff92-e1cb8ad00e4c"
   },
   "outputs": [],
   "source": [
    "#checking the GDP, population and migration as per region\n",
    "warnings.filterwarnings('ignore')\n",
    "fig = plt.figure(figsize=(18, 24))\n",
    "plt.title('Regional Correlations')\n",
    "ax1 = fig.add_subplot(4, 1, 1)\n",
    "ax2 = fig.add_subplot(4, 1, 2)\n",
    "ax3 = fig.add_subplot(4, 1, 3)\n",
    "ax4 = fig.add_subplot(4, 1, 4)\n",
    "sns.countplot(data= df, y= 'Region', ax= ax1, palette='RdYlGn')\n",
    "sns.barplot(data= df, y= 'Region', x= 'GDP_$_per_capita', ax= ax2, palette='RdYlGn', ci= None)\n",
    "sns.barplot(data= df, y= 'Region', x= 'Net migration', ax= ax3, palette='RdYlGn', ci= None)\n",
    "sns.barplot(data= df, y= 'Region', x= 'Population', ax= ax4, palette='RdYlGn', ci= None)\n",
    "plt.show()"
   ]
  },
  {
   "cell_type": "markdown",
   "metadata": {
    "id": "pLQRkuX4QyxB"
   },
   "source": [
    "**Section 3.2 observations summary:**\n",
    "\n",
    "---\n",
    "\n",
    "\n",
    "*   The six variables that are mostly correlated to GDP per capita are phones, birthrate, infant mortality, literacy, agriculture and net migration. This result aligns with majority of research that place technology, literacy levels and mortality rates as some of the biggest influencers.  \n",
    "\n",
    "\n",
    "*   The fair correlation between the net migration and the GDP is accurate because migrants tend to move to countries with better opportunities and higher GDP per capita. As shown above, the highest migrations are in the Western Europe, Asia and Near East regions.\n",
    "\n",
    "\n",
    "*   Interestingly, SSA and Latin America have the highest number of countries whereas Asia has the largest population. Nevertheless, Nothern America and Western Europe lead in terms of GDP per capita.\n",
    "\n",
    "\n",
    "*  The analysis confirms that African countries typically have some of the lowest GDP per capita in the world.\n",
    "\n",
    "\n",
    "\n",
    "\n",
    "\n",
    "\n",
    "\n",
    "\n",
    "\n",
    "\n",
    "\n",
    "\n",
    "---\n",
    "\n"
   ]
  },
  {
   "cell_type": "markdown",
   "metadata": {
    "id": "b5ToQ1u4zMcA"
   },
   "source": [
    "# **Section 4) Modelling**\n",
    "\n",
    "**Focus Questions:**\n",
    "\n",
    "3. **Can a machine learning algorithm be trained on the various factors and then\n",
    "accurately predict GDP per capita for any given country?**  \n",
    "\n",
    "4. **Will the accuracy of the predictions vary between Regions? e.g Europe vs Sub-Saharan Africa?**\n",
    "\n",
    "\n",
    "I use two models to test my objectives namely a linear regression model and a random forest model with my target variable as the GDP per Capita.These are then assessed using the The models' performance was evaluated by calculating the Root Mean Squared Error (RMSE), Mean Absolute Error (MAE), and R-squared (coefficient of determination)\n"
   ]
  },
  {
   "cell_type": "markdown",
   "metadata": {
    "id": "UqJpUcMX0IT0"
   },
   "source": [
    "##  **4.1) Preprocessing**\n",
    "\n",
    "**Label Encoding**\n",
    "\n",
    "\n",
    "Two of my variables Region and Climate are categorical features and hence I first convert these into machine readable form so that the model takes them into consideration."
   ]
  },
  {
   "cell_type": "code",
   "execution_count": null,
   "metadata": {
    "colab": {
     "base_uri": "https://localhost:8080/",
     "height": 340
    },
    "id": "3OcWF6cr0TL7",
    "outputId": "33528406-a95f-4c0a-a6a5-543b8f12e6e8"
   },
   "outputs": [],
   "source": [
    "#label encoding the region and climate columns\n",
    "LE = LabelEncoder()\n",
    "df['Region_label'] = LE.fit_transform(df['Region'])\n",
    "df['Climate_label'] = LE.fit_transform(df['Climate'])\n",
    "df.head()"
   ]
  },
  {
   "cell_type": "markdown",
   "metadata": {
    "id": "KUKRjJ3-1eML"
   },
   "source": [
    "## **4.2) Linear Regression Model**"
   ]
  },
  {
   "cell_type": "code",
   "execution_count": null,
   "metadata": {
    "id": "JKvTtZXb1uB_"
   },
   "outputs": [],
   "source": [
    "#assigning the train and test samples of the data\n",
    "train, test = train_test_split(df, test_size=0.3, shuffle=True)\n",
    "training_features = ['Population', 'Area_Sq_m',\n",
    "       'Pop. Density_per_sq_m', 'Coastline_coast_area_ratio',\n",
    "       'Net migration', 'Infant_mortality_per_1000_births',\n",
    "       'Literacy_%', 'Phones_per_1000',\n",
    "       'Arable_%', 'Crops_%', 'Other_%', 'Birthrate',\n",
    "       'Deathrate', 'Agriculture', 'Industry', 'Service', 'Region_label',\n",
    "       'Climate_label']\n",
    "target = 'GDP_$_per_capita'\n",
    "train_X = train[training_features]\n",
    "train_Y = train[target]\n",
    "test_X = test[training_features]\n",
    "test_Y = test[target]"
   ]
  },
  {
   "cell_type": "code",
   "execution_count": null,
   "metadata": {
    "colab": {
     "base_uri": "https://localhost:8080/"
    },
    "id": "KkaEVcM45YiN",
    "outputId": "b4fcfa7f-2838-480f-d852-7626c9c0a634"
   },
   "outputs": [],
   "source": [
    "#applying the linear regression\n",
    "model = LinearRegression()\n",
    "model.fit(train_X, train_Y)\n",
    "train_pred_Y = model.predict(train_X)\n",
    "test_pred_Y = model.predict(test_X)\n",
    "train_pred_Y = pd.Series(train_pred_Y.clip(0, train_pred_Y.max()), index=train_Y.index)\n",
    "test_pred_Y = pd.Series(test_pred_Y.clip(0, test_pred_Y.max()), index=test_Y.index)\n",
    "\n",
    "rmse_train = np.sqrt(mean_squared_error(train_pred_Y, train_Y))\n",
    "mae_train = mean_absolute_error(train_pred_Y, train_Y)\n",
    "rmse_test = np.sqrt(mean_squared_error(test_pred_Y, test_Y))\n",
    "mae_test = mean_absolute_error(test_pred_Y, test_Y)\n",
    "r2_train = r2_score(train_Y, train_pred_Y)\n",
    "r2_test = r2_score(test_Y, test_pred_Y)\n",
    "\n",
    "print('rmse_train:',rmse_train,'mae_train:',mae_train,'R squared train:',r2_train)\n",
    "print('rmse_test:',rmse_test,'mae_test:',mae_test,'R squared test:',r2_test)"
   ]
  },
  {
   "cell_type": "markdown",
   "metadata": {
    "id": "0PjFIekibEvR"
   },
   "source": [
    "**Section 4.2 observations summary:**\n",
    "\n",
    "---\n",
    "\n",
    "\n",
    "*  The regression model assigns the GDP per capita as the dependent variable and all others as the independent variables.  \n",
    "\n",
    "*  The output of the Linear Regression model shows that the RMSE for the training and test set is high which indicates that there are prediction errors and that the model may not be accurately capturing all the patterns and relationships in the training data. The R-squared of 0.74 means that the model explains about 74% of the variance in the training set.\n",
    "*   For the test set, the RMSE and MAE are also high showing and the R-squared of 0.83 also shows that the model explains about 83% of the variance in the test set.\n",
    "\n",
    "*   Overall, the model is not accurately capturing the patterns and relationships in the data. The high RMSE and MAE values on the testing set as compared to the traiuning set suggests the model might be overfitting to the training data, resulting in poorer performance on the unseen portion of the data. In the next step I try using a different model.\n",
    "\n",
    "\n",
    "\n",
    "\n",
    "\n",
    "\n",
    "\n",
    "\n",
    "\n",
    "\n",
    "---\n",
    "\n"
   ]
  },
  {
   "cell_type": "markdown",
   "metadata": {
    "id": "dV5Ftk-Ye0hZ"
   },
   "source": [
    "##  **4.3) Random Forest Model**"
   ]
  },
  {
   "cell_type": "code",
   "execution_count": null,
   "metadata": {
    "colab": {
     "base_uri": "https://localhost:8080/"
    },
    "id": "Icrm8ZaMXlrO",
    "outputId": "7a8614c7-c393-4576-edbb-3ba93835e595"
   },
   "outputs": [],
   "source": [
    "#applying the random forest model\n",
    "model = RandomForestRegressor(n_estimators = 50,\n",
    "                             max_depth = 6,\n",
    "                             min_weight_fraction_leaf = 0.05,\n",
    "                             max_features = 0.8,\n",
    "                             random_state = 42)\n",
    "model.fit(train_X, train_Y)\n",
    "train_pred_Y = model.predict(train_X)\n",
    "test_pred_Y = model.predict(test_X)\n",
    "train_pred_Y = pd.Series(train_pred_Y.clip(0, train_pred_Y.max()), index=train_Y.index)\n",
    "test_pred_Y = pd.Series(test_pred_Y.clip(0, test_pred_Y.max()), index=test_Y.index)\n",
    "\n",
    "rmse_train = np.sqrt(mean_squared_error(train_pred_Y, train_Y))\n",
    "mae_train = mean_absolute_error(train_pred_Y, train_Y)\n",
    "rmse_test = np.sqrt(mean_squared_error(test_pred_Y, test_Y))\n",
    "mae_test = mean_absolute_error(test_pred_Y, test_Y)\n",
    "r2_train = r2_score(train_Y, train_pred_Y)\n",
    "r2_test = r2_score(test_Y, test_pred_Y)\n",
    "\n",
    "print('rmse_train:',rmse_train,'mae_train:',mae_train,'R squared train:',r2_train)\n",
    "print('rmse_test:',rmse_test,'mae_test:',mae_test,'R squared test:',r2_test)\n"
   ]
  },
  {
   "cell_type": "markdown",
   "metadata": {
    "id": "1jlpRstmf7wW"
   },
   "source": [
    "**Section 4.3 observations summary:**\n",
    "\n",
    "---\n",
    "\n",
    "  \n",
    "\n",
    "*  The output of the Random Forest model shows that the RMSE for the training is significant implying prediction errors and that the model may not be accurately capturing all the patterns and relationships in the training data. The R-squared of 0.90 also denotes that the model explains about 90% of the variance in the training set.\n",
    "*   For the test set, the RMSE and MAE is also significant for the same reasons. The R-squared of 0.80  shows that the model explains about 80% of the variance in the test set.\n",
    "\n",
    "*   The results show that the model may not be accurately capturing the patterns and relationships in the data. There is room for improvement in the performance of this model and I will apply a different approach and focus on one region in the next section.\n",
    "\n",
    "\n",
    "\n",
    "\n",
    "\n",
    "\n",
    "\n",
    "\n",
    "\n",
    "\n",
    "\n",
    "\n",
    "\n",
    "\n",
    "\n",
    "\n",
    "\n",
    "\n",
    "---\n",
    "\n"
   ]
  },
  {
   "cell_type": "markdown",
   "metadata": {
    "id": "ZTPlKswh6n2J"
   },
   "source": [
    "##  **4.4) Visualizing the results**\n",
    "To check the model output, I make a scatter plot of prediction against the actuals. As you can see the model gives a resonable prediction, as majority of the data points are gathering around the line y=x."
   ]
  },
  {
   "cell_type": "code",
   "execution_count": null,
   "metadata": {},
   "outputs": [],
   "source": [
    "# Visualising the GDP per capita\n",
    "plt.figure(figsize=(18,14))\n",
    "\n",
    "# Concatenate the Series objects train_Y, test_Y, train_pred_Y, and test_pred_Y\n",
    "train_test_Y = pd.concat([train_Y, test_Y])\n",
    "train_test_pred_Y = pd.concat([train_pred_Y, test_pred_Y])\n",
    "\n",
    "df_modelled = df.loc[train_test_Y.index]\n",
    "label = df_modelled['Country']\n",
    "\n",
    "colors = {'ASIA (EX. NEAR EAST)         ':'red',\n",
    "          'EASTERN EUROPE                     ':'orange',\n",
    "          'NORTHERN AFRICA                    ':'gold',\n",
    "          'OCEANIA                            ':'green',\n",
    "          'WESTERN EUROPE                     ':'blue',\n",
    "          'SUB-SAHARAN AFRICA                 ':'purple',\n",
    "          'LATIN AMER. & CARIB    ':'olive',\n",
    "          'C.W. OF IND. STATES ':'cyan',\n",
    "          'NEAR EAST                          ':'hotpink',\n",
    "          'NORTHERN AMERICA                   ':'lightseagreen',\n",
    "          'BALTICS                            ':'rosybrown'}\n",
    "\n",
    "for region, color in colors.items():\n",
    "    X = train_test_Y.loc[df_modelled['Region']==region]\n",
    "    Y = train_test_pred_Y.loc[df_modelled['Region']==region]\n",
    "    ax = sns.regplot(x=X, y=Y, marker='.', fit_reg=False, color=color, scatter_kws={'s':200, 'linewidths':0}, label=region)\n",
    "plt.legend(loc=4,prop={'size': 12})\n",
    "\n",
    "ax.set_xlabel('GDP ($ per capita) Actuals',labelpad=40)\n",
    "ax.set_ylabel('GDP ($ per capita) Predicted',labelpad=40)\n",
    "ax.xaxis.label.set_fontsize(15)\n",
    "ax.yaxis.label.set_fontsize(15)\n",
    "ax.tick_params(labelsize=12)\n",
    "\n",
    "x = np.linspace(-1000,50000,100)\n",
    "y = x\n",
    "plt.plot(x,y,c='gray')\n",
    "\n",
    "plt.xlim(-1000,60000)\n",
    "plt.ylim(-1000,40000)\n",
    "\n",
    "for i in range(0,train_test_Y.shape[0]):\n",
    "    if((df_modelled['Area_Sq_m'].iloc[i]>8e5) |\n",
    "       (df_modelled['Population'].iloc[i]>1e8) |\n",
    "       (df_modelled['GDP_$_per_capita'].iloc[i]>10000)):\n",
    "        plt.text(train_test_Y.iloc[i]+200, train_test_pred_Y.iloc[i]-200, label.iloc[i], size='small')"
   ]
  },
  {
   "cell_type": "markdown",
   "metadata": {
    "id": "pH4RpC77okXo"
   },
   "source": [
    "**Section 4.4 observations summary:**\n",
    "\n",
    "\n",
    "---\n",
    "\n",
    "\n",
    "Questions Answered:\n",
    "\n",
    "**-> Can a machine learning algorithm be trained on the various factors and then accurately predict GDP per capita for any given country?**\n",
    "\n",
    "The line y=x represents perfect predictions, where the predicted values exactly match the actual values. My data points cluster around this line, indicating that the models are accurately capturing the relationship between the geo-economic factors which are the independent variables and the GDP per capita which is the dependent variable.\n",
    "\n",
    "Therefore, the output proves that the model can indeed predict the GDP per capita for the countries. As shown in the scatter plot above, the predicted vs actuals of majority of the countries are aligned as they are converge along the line.\n",
    "\n",
    "*  There is some room for improvement for the model and an option for evaluating more models but I focus on this in the next section where I narrow down to one specific region.\n",
    "\n",
    "\n",
    "**-> Will the accuracy of the predictions vary between Regions? e.g Europe vs Sub-Saharan Africa?**\n",
    "\n",
    "Yes, the predicted values seem more accurate for the bottom 5 regions in terms of GDP per Capita as compared to the regions with higher GDP per Capita. In their research paper \"National Income and Its Distribution',Brueckner and Lederman (2015) affirm that inequality on GDP per capita in different countries is greatly influenced by income inequalities and the effect this has on aggregate output.\n",
    "\n",
    "Interestingly, countries in the lower GDP per Capita brackets often share similar socio-economic characteristics, presenting a more homogeneous economic landscape with fewer complexities. The above models, trained on data predominantly representing countries with lower economic development, seem to capture and generalize well to these common characteristics, thus yielding more accurate predictions.\n",
    "\n",
    "In contrast, nations with higher GDP per Capita like Luxembourg likely exhibit greater economic diversity, intricate interdependencies, and non-linear relationships among geo-economic factors. These complexities may be the ones presenting challenges for the models in capturing the nuanced relationships accurately, leading to comparatively less precise predictions for countries in the higher GDP per Capita brackets.\n",
    "\n",
    "\n",
    "\n",
    "\n",
    "\n",
    "  \n",
    "\n",
    "\n",
    "\n",
    "\n",
    "\n",
    "\n",
    "\n",
    "\n",
    "\n",
    "\n",
    "\n",
    "\n",
    "\n",
    "\n",
    "\n",
    "---\n",
    "\n"
   ]
  },
  {
   "cell_type": "markdown",
   "metadata": {
    "id": "gApBVYsmhuIo"
   },
   "source": [
    "#   **Section 5) A Deep Dive into Sub Saharan Africa (SSA) Region**\n",
    "\n",
    "From the visualisation, it is evident that the model is more accurate for the low GDP regions as compared than Higher GDP regions. It is therefore imperative for me to redo the analysis with Sub-Saharan Africa as the focus to interrogate the factors that are more influential in this region. I can then use these insights to optimise my model and make a prediction for Kenya."
   ]
  },
  {
   "cell_type": "markdown",
   "metadata": {
    "id": "CAXp68yFyCs-"
   },
   "source": [
    "##  **5.1) Exploring the SSA data**"
   ]
  },
  {
   "cell_type": "code",
   "execution_count": null,
   "metadata": {
    "colab": {
     "base_uri": "https://localhost:8080/",
     "height": 340
    },
    "id": "skz21Sxsd2tP",
    "outputId": "d06a6b3c-08f7-4af6-e5c3-a8ffdde4f4c2"
   },
   "outputs": [],
   "source": [
    "#extracting SSA data\n",
    "SSA_df=(df[df['Region'].str.contains(\"SUB-SAHARAN AFRICA\")])\n",
    "SSA_df.head()"
   ]
  },
  {
   "cell_type": "code",
   "execution_count": null,
   "metadata": {
    "colab": {
     "base_uri": "https://localhost:8080/",
     "height": 338
    },
    "id": "4Eb2knUdeqFk",
    "outputId": "6df42d4d-df8b-4d49-82ff-b4481ce97a72"
   },
   "outputs": [],
   "source": [
    "#describing the SSA data\n",
    "SSA_df.describe()"
   ]
  },
  {
   "cell_type": "code",
   "execution_count": null,
   "metadata": {
    "colab": {
     "base_uri": "https://localhost:8080/",
     "height": 1000
    },
    "id": "tch3fqrUfg4o",
    "outputId": "cd4ca4a1-2055-4c38-cb73-6a21973a6ef7"
   },
   "outputs": [],
   "source": [
    "#top factors affecting GDP per capita in SSA\n",
    "fig, axes = plt.subplots(nrows=2, ncols=3, figsize=(20,12))\n",
    "plt.subplots_adjust(hspace=0.4)\n",
    "\n",
    "corr_to_gdp = pd.Series()\n",
    "for col in SSA_df.columns.values[2:]:\n",
    "    if ((col!='GDP_$_per_capita')&(col!='Climate')):\n",
    "        corr_to_gdp[col] = SSA_df['GDP_$_per_capita'].corr(SSA_df[col])\n",
    "abs_corr_to_gdp = corr_to_gdp.abs().sort_values(ascending=False)\n",
    "corr_to_gdp = corr_to_gdp.loc[abs_corr_to_gdp.index]\n",
    "\n",
    "for i in range(2):\n",
    "    for j in range(3):\n",
    "        sns.regplot(x=corr_to_gdp.index.values[i*3+j], y='GDP_$_per_capita', data=df,\n",
    "                   ax=axes[i,j], fit_reg=False, marker='.')\n",
    "        title = 'correlation='+str(corr_to_gdp[i*3+j])\n",
    "        axes[i,j].set_title(title)\n",
    "axes[1,2].set_xlim(0,102)\n",
    "plt.show()"
   ]
  },
  {
   "cell_type": "code",
   "execution_count": null,
   "metadata": {
    "colab": {
     "base_uri": "https://localhost:8080/",
     "height": 1000
    },
    "id": "mKG1B7sTCqsX",
    "outputId": "a7887796-cc26-4fa1-f93a-8c4c343eaf06"
   },
   "outputs": [],
   "source": [
    "#investigating the GDP, population and literacy in the SSA region\n",
    "warnings.filterwarnings('ignore')\n",
    "fig = plt.figure(figsize=(25, 33))\n",
    "plt.title('A view of top 30 SSA Region GDP per Capita, Population & Literacy (Including Kenya)')\n",
    "ax1 = fig.add_subplot(3, 1, 1)\n",
    "ax2 = fig.add_subplot(3, 1, 2)\n",
    "ax3 = fig.add_subplot(3, 1, 3)\n",
    "\n",
    "sns.barplot(data= SSA_df, y= 'Country', x= 'GDP_$_per_capita', ax= ax1, color='#006838', ci= None)\n",
    "sns.barplot(data= SSA_df, y= 'Country', x= 'Population', ax= ax2, color='#006838', ci= None)\n",
    "sns.barplot(data= SSA_df, y= 'Country', x= 'Literacy_%', ax= ax3, color='#006838', ci= None)\n",
    "plt.show()"
   ]
  },
  {
   "cell_type": "code",
   "execution_count": null,
   "metadata": {
    "colab": {
     "base_uri": "https://localhost:8080/",
     "height": 618
    },
    "id": "LxdR_DUKcm73",
    "outputId": "e9171fea-e2dc-4c39-fd77-5ce0ee84c874"
   },
   "outputs": [],
   "source": [
    "#a closer look at GDP vs Agriculture\n",
    "fig = plt.figure(figsize=(20, 20))\n",
    "sns.jointplot(data= SSA_df, x= 'Agriculture', y= 'GDP_$_per_capita', kind= 'hex',color='#006838')\n",
    "plt.title('GDP Analysis: GDP vs Agriculture')\n",
    "plt.show()"
   ]
  },
  {
   "cell_type": "markdown",
   "metadata": {
    "id": "MBcmx3_gVXJG"
   },
   "source": [
    "**Section 5.1 observations summary:**\n",
    "\n",
    "---\n",
    "\n",
    "  \n",
    "\n",
    "*  In SSA the top countries in terms of GDP per Capita are South Africa, Mauritius, Namibia, Seychelles and Botswana and Gabon. A deeper literature review of what makes these countries lead amongst their peers confirms that in Africa the heavily agriculture, mineral and tourism based economies do better.  Eg. the economy of Gabon is also heavily dependent on its oil reserves and revenue from oil production accounts for about 43% of the country’s GDP and 81% of its exports. Botswana is boosted by its abundant natural resources such as gemstones and precious metals and South Africa benefits greatly from the production of electricity as it has a nuclear power plant(Mappr, 2023).\n",
    "\n",
    "*   Kenya is among the contries with the highest population, with Nigeria, Ethiopia and Congo leading as at the time of this dataset. Rapid population growth that is does not grow at par with other economoc and infrastructural development tends to result in declines in GDPdue to increased per capita food consumption, poorer land quality and overally high dependency ratios. This explains the disparity in population vs the GDP per capita in the dataset.\n",
    "\n",
    "\n",
    "\n",
    "*   From the dataset the literacy levels are mostly uniform in SSA with Kenya also among the countries with the highest literacy levels. On the other hand, I was surprised by the relationship between GDP and Agriculture as shown by the hex above but this proves that it cannot stand as a strong factor economically by itself especially in countries with high population. GDP per capita needs vibrancy, investment and growth in multiple economic activities to boost the overall GDP.\n",
    "\n",
    "\n",
    "\n",
    "\n",
    "\n",
    "\n",
    "\n",
    "\n",
    "\n",
    "\n",
    "\n",
    "\n",
    "\n",
    "\n",
    "\n",
    "\n",
    "\n",
    "\n",
    "\n",
    "---\n",
    "\n"
   ]
  },
  {
   "cell_type": "markdown",
   "metadata": {
    "id": "xZZRrRcAyL-n"
   },
   "source": [
    "##  **5.2) Pre-processing the SSA data**\n",
    "\n",
    "In this section I start by preprocessing the SSA data in preparation for modelling. I also use a feature selection technique to complement Principal component analysis (PCA) to reduce the dimensionality of my data and pinpoint the key GDP per capital variables for the SSA region. This will ensure my prediction for Kenya will be more accurate."
   ]
  },
  {
   "cell_type": "code",
   "execution_count": null,
   "metadata": {
    "colab": {
     "base_uri": "https://localhost:8080/",
     "height": 206
    },
    "id": "UU6SuBzMkxdQ",
    "outputId": "2f657ff8-0d15-472f-f0ef-61a44da98527"
   },
   "outputs": [],
   "source": [
    "#normalising the data in preparation for modelling\n",
    "SSA_df_normalised = SSA_df.copy()\n",
    "cols = ['Population', 'Area_Sq_m', 'Pop. Density_per_sq_m',\n",
    "       'Coastline_coast_area_ratio', 'Net migration',\n",
    "       'Infant_mortality_per_1000_births', 'GDP_$_per_capita', 'Literacy_%',\n",
    "       'Phones_per_1000', 'Arable_%', 'Crops_%', 'Other_%', 'Climate',\n",
    "       'Birthrate', 'Deathrate', 'Agriculture', 'Industry', 'Service']\n",
    "SSA_df_normalised[cols] = minmax_scale(SSA_df_normalised[cols])\n",
    "SSA_df_normalised = SSA_df_normalised.drop(columns=['Country', 'Region', 'Region_label','Climate_label'])\n",
    "SSA_df_normalised.head()\n"
   ]
  },
  {
   "cell_type": "code",
   "execution_count": null,
   "metadata": {
    "colab": {
     "base_uri": "https://localhost:8080/",
     "height": 238
    },
    "id": "5Cqqw95grIXz",
    "outputId": "a7cdab22-40aa-4671-a325-d7bbc9e68a79"
   },
   "outputs": [],
   "source": [
    "#PCA\n",
    "pca = PCA(n_components=10)\n",
    "PC = pca.fit_transform(SSA_df_normalised)\n",
    "pca_SSA = pd.DataFrame(data = PC\n",
    "             , columns = ['PC1', 'PC2', 'PC3', 'PC4', 'PC5', 'PC6', 'PC7','PC8','PC9','PC10'])\n",
    "\n",
    "pca_SSA.head(6)"
   ]
  },
  {
   "cell_type": "code",
   "execution_count": null,
   "metadata": {
    "colab": {
     "base_uri": "https://localhost:8080/",
     "height": 541
    },
    "id": "WNIz6K3qr9io",
    "outputId": "5cc7ae23-e41c-4cb1-f662-18461e327571"
   },
   "outputs": [],
   "source": [
    "#visualising the PCA\n",
    "fig, ax = plt.subplots(nrows=1,\n",
    "                       ncols=1)\n",
    "ax.bar(\n",
    "    x      = np.arange(pca.n_components_) + 1,\n",
    "    height = pca.explained_variance_ratio_,\n",
    "    color= \"green\"\n",
    ")\n",
    "\n",
    "for x, y in zip(np.arange(len(df.columns)) + 1,\n",
    "                pca.explained_variance_ratio_):\n",
    "    label = round(y, 2)\n",
    "    ax.annotate(\n",
    "        label,\n",
    "        (x,y),\n",
    "        textcoords=\"offset points\",\n",
    "        xytext=(0,10),\n",
    "        ha='center'\n",
    "    )\n",
    "\n",
    "ax.set_xticks(np.arange(pca.n_components_) + 1)\n",
    "ax.set_ylim(0, 1.1)\n",
    "ax.set_title('PCA Explained Variance Ratio')\n",
    "ax.set_xlabel('Principal Components')"
   ]
  },
  {
   "cell_type": "code",
   "execution_count": null,
   "metadata": {
    "id": "Jf0242wCz3bV"
   },
   "outputs": [],
   "source": [
    "#dropping the GDP per capita column from the independent variables and assigning it as the target variables\n",
    "X1 = SSA_df_normalised.drop(columns=['GDP_$_per_capita'])\n",
    "y1 = pd.DataFrame(SSA_df_normalised['GDP_$_per_capita'])\n"
   ]
  },
  {
   "cell_type": "code",
   "execution_count": null,
   "metadata": {
    "colab": {
     "base_uri": "https://localhost:8080/"
    },
    "id": "EYTpx6AFtfor",
    "outputId": "1a5badf5-6e9f-4e8c-dd37-c1da2630dca7"
   },
   "outputs": [],
   "source": [
    "#Backward elimination code below iterates through the predictors until only the significant variables are chosen\n",
    "warnings.simplefilter(action='ignore', category=FutureWarning)\n",
    "\n",
    "cols = list(X1)\n",
    "pmax = 1\n",
    "while (len(cols)>0):\n",
    "    p = []\n",
    "    X_1 = X1[cols]\n",
    "    X_1 = sm.add_constant(X_1)\n",
    "    model = sm.OLS(y1,X_1).fit()\n",
    "    p = pd.Series(model.pvalues.values[1:],index = cols)\n",
    "    pmax = max(p)\n",
    "    feature_with_p_max = p.idxmax()\n",
    "    if(pmax>0.05):\n",
    "        cols.remove(feature_with_p_max)\n",
    "    else:\n",
    "        break\n",
    "selected_features_BE = cols\n",
    "print(selected_features_BE)\n"
   ]
  },
  {
   "cell_type": "code",
   "execution_count": null,
   "metadata": {
    "colab": {
     "base_uri": "https://localhost:8080/",
     "height": 206
    },
    "id": "fC1cZr7OzyQY",
    "outputId": "76f3b13a-8eeb-46f6-82e0-0324ba797bea"
   },
   "outputs": [],
   "source": [
    "#identifying the details of the featues identified as the most important\n",
    "x1 = X1.filter(['Population', 'Area_Sq_m', 'Pop. Density_per_sq_m', 'Infant_mortality_per_1000_births', 'Climate', 'Birthrate', 'Deathrate', 'Industry'])\n",
    "x1.head()"
   ]
  },
  {
   "cell_type": "code",
   "execution_count": null,
   "metadata": {
    "colab": {
     "base_uri": "https://localhost:8080/",
     "height": 206
    },
    "id": "qCT0xlXZ00Wx",
    "outputId": "3e9149e1-acc8-4f0c-e2f2-b41a6f4d256f"
   },
   "outputs": [],
   "source": [
    "#creating a dataframe with only the most important features\n",
    "SSA_df2 = x1.join(y1)\n",
    "SSA_df2.head()"
   ]
  },
  {
   "cell_type": "markdown",
   "metadata": {
    "id": "nICvTvZc2Hc-"
   },
   "source": [
    "**Section 5.2 observations summary:**\n",
    "\n",
    "\n",
    "---\n",
    "\n",
    "\n",
    "\n",
    "*   The above section was aimed at selecting the most important features in the SSA data. The PCA confirmed that some components are more significant than others and I paired this with the backward elimination process which helped me to refine the features further and pinpoint exactly what they were.\n",
    "*   The backward elimination process selects a P-value level of 0.05, fits the model with all features, identifies features with the highest P-value,\n",
    "removes the feature with highest P-value, fits the model again and repeats the Backward Elimination until we remove all features with p-value higher the significance level. Optimal features were identified as population, area, population density, infant mortality, climate, birthrate, deathrate and industry.\n",
    "\n",
    "\n",
    "\n",
    "\n",
    "\n",
    "\n",
    "\n",
    "  \n",
    "\n",
    "\n",
    "\n",
    "\n",
    "\n",
    "\n",
    "\n",
    "\n",
    "\n",
    "\n",
    "\n",
    "\n",
    "\n",
    "\n",
    "\n",
    "---\n",
    "\n"
   ]
  },
  {
   "cell_type": "markdown",
   "metadata": {
    "id": "2JKpE7fT3mSW"
   },
   "source": [
    "##  **5.3) Modelling the SSA data**\n",
    "\n",
    "I proceed to use the Random Forest and the Linear Regression models to model the key aforementioned features of the smaller Sub Saharan Africa region against my target variable which is the GDP per Capita variable. In this section, I also apply the XGBoost model for a further inspection of how accurate the predictions focusing on this one region will be to allow for a comparative analysis of the model performances."
   ]
  },
  {
   "cell_type": "markdown",
   "metadata": {
    "id": "09jwrgKa3zA4"
   },
   "source": [
    "##**5.3.1) Optimised Random Forest Model**\n",
    "\n",
    "\n",
    "\n"
   ]
  },
  {
   "cell_type": "code",
   "execution_count": null,
   "metadata": {
    "id": "t0akU7P95_Lg"
   },
   "outputs": [],
   "source": [
    "#assigning the train and test samples of the data\n",
    "train, test = train_test_split(SSA_df2, test_size=0.2, shuffle=True)\n",
    "training_features = ['Population', 'Area_Sq_m', 'Pop. Density_per_sq_m', 'Infant_mortality_per_1000_births', 'Climate', 'Birthrate', 'Deathrate', 'Industry']\n",
    "target = 'GDP_$_per_capita'\n",
    "train_X = train[training_features]\n",
    "train_Y = train[target]\n",
    "test_X = test[training_features]\n",
    "test_Y = test[target]"
   ]
  },
  {
   "cell_type": "code",
   "execution_count": null,
   "metadata": {
    "colab": {
     "base_uri": "https://localhost:8080/"
    },
    "id": "TgcTBE9o-Zt7",
    "outputId": "d3b84b81-8e9d-4f86-aba2-e6b42fbc5f19"
   },
   "outputs": [],
   "source": [
    "#Create the Random Forest Regressor\n",
    "rf = RandomForestRegressor(random_state=42)\n",
    "\n",
    "# Define the parameter grid to search through\n",
    "param_grid = {\n",
    "    'n_estimators': [50, 100, 150],\n",
    "    'max_depth': [6, 8, 10],\n",
    "    'min_weight_fraction_leaf': [0.01, 0.05, 0.1],\n",
    "    'max_features': [0.7, 0.8, 0.9]\n",
    "}\n",
    "\n",
    "# Create the GridSearchCV object\n",
    "grid_search = GridSearchCV(estimator=rf, param_grid=param_grid, cv=5, scoring='neg_mean_squared_error', n_jobs=-1)\n",
    "\n",
    "# Fit the grid search to the data\n",
    "grid_search.fit(train_X, train_Y)\n",
    "\n",
    "# Get the best parameters\n",
    "best_params = grid_search.best_params_\n",
    "\n",
    "# Initialize the model with the best parameters\n",
    "best_rf = RandomForestRegressor(random_state=42, **best_params)\n",
    "\n",
    "# Fit the model with the best parameters\n",
    "best_rf.fit(train_X, train_Y)\n",
    "\n",
    "# Make predictions on train and test sets\n",
    "train_pred_Y = best_rf.predict(train_X)\n",
    "test_pred_Y = best_rf.predict(test_X)\n",
    "\n",
    "# Calculate evaluation metrics\n",
    "rmse_train = np.sqrt(mean_squared_error(train_pred_Y, train_Y))\n",
    "mae_train = mean_absolute_error(train_pred_Y, train_Y)\n",
    "rmse_test = np.sqrt(mean_squared_error(test_pred_Y, test_Y))\n",
    "mae_test = mean_absolute_error(test_pred_Y, test_Y)\n",
    "r2_train = r2_score(train_Y, train_pred_Y)\n",
    "r2_test = r2_score(test_Y, test_pred_Y)\n",
    "\n",
    "# Print the evaluation metrics\n",
    "print('Best Parameters:', best_params)\n",
    "print('RMSE Train:', rmse_train, 'MAE Train:', mae_train, 'R-squared Train:', r2_train)\n",
    "print('RMSE Test:', rmse_test, 'MAE Test:', mae_test, 'R-squared Test:', r2_test)"
   ]
  },
  {
   "cell_type": "markdown",
   "metadata": {
    "id": "AjKJ4k5y4UKJ"
   },
   "source": [
    "**Section 5.3.1 observations summary:**\n",
    "\n",
    "---\n",
    "\n",
    "  \n",
    "\n",
    "*  As compared to the random forest modelling I had applied to all countries in the dataset before, the output of the Random Forest model applied to the Sub Saharan Africa region is quite impressive showing a relatively small difference between the predicted and actual values. By narrowing down to the SSA region, I gained a better understanding of the characteristics of the data that are most relevant to Kenya and reduces the amount of noise and hude variations between the high and lower ranked countries that may have skewed the output in the previous section 4.3.\n",
    "\n",
    "\n",
    "\n",
    "\n",
    "\n",
    "\n",
    "\n",
    "\n",
    "\n",
    "---\n",
    "\n"
   ]
  },
  {
   "cell_type": "markdown",
   "metadata": {
    "id": "WvhsLOdDpELF"
   },
   "source": [
    "##**5.3.2) Optimised XGBoost Model**"
   ]
  },
  {
   "cell_type": "code",
   "execution_count": null,
   "metadata": {
    "colab": {
     "base_uri": "https://localhost:8080/"
    },
    "id": "PIEUH9VdBHuB",
    "outputId": "ed74d5ae-05f1-48ec-b853-cff0482e5b28"
   },
   "outputs": [],
   "source": [
    "# Define the parameter grid to search through\n",
    "param_grid = {\n",
    "    'n_estimators': [50, 100, 150],\n",
    "    'max_depth': [6, 8, 10],\n",
    "    'learning_rate': [0.1, 0.01, 0.001],\n",
    "    'subsample': [0.7, 0.8, 0.9]\n",
    "}\n",
    "\n",
    "# Initialize the XGBoost Regressor\n",
    "xgb_model = xgb.XGBRegressor(random_state=42)\n",
    "\n",
    "# Create the GridSearchCV object\n",
    "grid_search = GridSearchCV(estimator=xgb_model, param_grid=param_grid, cv=5, scoring='neg_mean_squared_error', n_jobs=-1)\n",
    "\n",
    "# Fit the grid search to the data\n",
    "grid_search.fit(train_X, train_Y)\n",
    "\n",
    "# Get the best parameters\n",
    "best_params = grid_search.best_params_\n",
    "\n",
    "# Initialize the model with the best parameters\n",
    "best_xgb = xgb.XGBRegressor(random_state=42, **best_params)\n",
    "\n",
    "# Fit the model with the best parameters\n",
    "best_xgb.fit(train_X, train_Y)\n",
    "\n",
    "# Make predictions on train and test sets\n",
    "train_pred_Y_xgb = best_xgb.predict(train_X)\n",
    "test_pred_Y_xgb = best_xgb.predict(test_X)\n",
    "\n",
    "# Calculate evaluation metrics\n",
    "rmse_train_xgb = np.sqrt(mean_squared_error(train_pred_Y_xgb, train_Y))\n",
    "mae_train_xgb = mean_absolute_error(train_pred_Y_xgb, train_Y)\n",
    "rmse_test_xgb = np.sqrt(mean_squared_error(test_pred_Y_xgb, test_Y))\n",
    "mae_test_xgb = mean_absolute_error(test_pred_Y_xgb, test_Y)\n",
    "r2_train_xgb = r2_score(train_Y, train_pred_Y_xgb)\n",
    "r2_test_xgb = r2_score(test_Y, test_pred_Y_xgb)\n",
    "\n",
    "# Print the evaluation metrics\n",
    "print('Best Parameters:', best_params)\n",
    "print('RMSE Train:', rmse_train_xgb, 'MAE Train:', mae_train_xgb, 'R-squared Train:', r2_train_xgb)\n",
    "print('RMSE Test:', rmse_test_xgb, 'MAE Test:', mae_test_xgb, 'R-squared Test:', r2_test_xgb)"
   ]
  },
  {
   "cell_type": "markdown",
   "metadata": {
    "id": "8DxeWadX4BYp"
   },
   "source": [
    "##**5.3.3) Linear Regression Model**\n",
    "\n",
    "\n",
    "\n"
   ]
  },
  {
   "cell_type": "code",
   "execution_count": null,
   "metadata": {
    "colab": {
     "base_uri": "https://localhost:8080/"
    },
    "id": "ORuoao1DNxxF",
    "outputId": "941c3838-4277-4f75-8e9f-0079f9562683"
   },
   "outputs": [],
   "source": [
    "# Train a Linear Regression model\n",
    "ml = LinearRegression()\n",
    "ml.fit(train_X, train_Y)\n",
    "\n",
    "# Make predictions on train and test sets\n",
    "train_pred_Y_linear = ml.predict(train_X)\n",
    "test_pred_Y_linear = ml.predict(test_X)\n",
    "\n",
    "# Calculate evaluation metrics for Linear Regression\n",
    "rmse_train_linear = np.sqrt(mean_squared_error(train_Y, train_pred_Y_linear))\n",
    "mae_train_linear = mean_absolute_error(train_Y, train_pred_Y_linear)\n",
    "r2_train_linear = r2_score(train_Y, train_pred_Y_linear)\n",
    "\n",
    "rmse_test_linear = np.sqrt(mean_squared_error(test_Y, test_pred_Y_linear))\n",
    "mae_test_linear = mean_absolute_error(test_Y, test_pred_Y_linear)\n",
    "r2_test_linear = r2_score(test_Y, test_pred_Y_linear)\n",
    "\n",
    "# Print the evaluation metrics for Linear Regression\n",
    "print('Linear Regression:')\n",
    "print('RMSE Train:', rmse_train_linear, 'MAE Train:', mae_train_linear, 'R-squared Train:', r2_train_linear)\n",
    "print('RMSE Test:', rmse_test_linear, 'MAE Test:', mae_test_linear, 'R-squared Test:', r2_test_linear)\n",
    "\n",
    "# Make predictions using x1 (or any other set of features)\n",
    "predicted_gdp = ml.predict(x1)\n",
    "\n",
    "# Print or view the predicted GDP values\n",
    "print(\"\\nPredicted GDP values using the Linear Regression model:\")\n",
    "print(predicted_gdp)"
   ]
  },
  {
   "cell_type": "code",
   "execution_count": null,
   "metadata": {
    "colab": {
     "base_uri": "https://localhost:8080/",
     "height": 206
    },
    "id": "bsbAXNghKF7K",
    "outputId": "9c4497d7-cce3-4702-f607-b2c609e1235c"
   },
   "outputs": [],
   "source": [
    "#creating a dataframe of the actual vs the predicted gdp per capita\n",
    "predicted = pd.DataFrame(predicted_gdp, columns=['Predicted_GDP_per_Capita'])\n",
    "country = predicted.assign(Country = SSA_df['Country'].values)\n",
    "summary = country.assign(Actual_GDP_per_Capita = SSA_df_normalised['GDP_$_per_capita'].values)\n",
    "summary = summary[['Country', 'Actual_GDP_per_Capita', 'Predicted_GDP_per_Capita']]\n",
    "summary.head()"
   ]
  },
  {
   "cell_type": "code",
   "execution_count": null,
   "metadata": {
    "colab": {
     "base_uri": "https://localhost:8080/",
     "height": 992
    },
    "id": "fYeXNbjCRVeR",
    "outputId": "f290b3d1-c1f2-4fe5-c4d3-5dc9732fa7c2"
   },
   "outputs": [],
   "source": [
    "#plotting the model predictions\n",
    "plt.figure(figsize=(20,10))\n",
    "plt.plot(summary['Country'], summary['Actual_GDP_per_Capita'], color='blue')\n",
    "plt.plot(summary['Country'], summary['Predicted_GDP_per_Capita'], color='green')\n",
    "plt.title('Actual vs Predicted Values')\n",
    "plt.xlabel('Country')\n",
    "plt.ylabel('Values')\n",
    "plt.legend(['Actual_GDP_per_Capita','Predicted_GDP_per_Capita'])\n",
    "plt.xticks(rotation=90)\n",
    "plt.show()"
   ]
  },
  {
   "cell_type": "markdown",
   "metadata": {
    "id": "PrkOJrcg6NnH"
   },
   "source": [
    "**Section 5.3.2 observations summary:**\n",
    "\n",
    "---\n",
    "\n",
    "  \n",
    "\n",
    "*  The visual above confirms that as compared to the modelling applied for all countries, the predictions of the  SSA model are largely accurate. Granted, there are 6 countries where the predicted values differed considerably form the predicted values. With a further investigation of the features most highly correlated values with their GDP per capita it is likely that a different mix of factors specific to these countries may be optimal. However, the predictions for majority of the countries are accurate and I am comfortable to proceed with the model.\n",
    "\n",
    "\n",
    "\n",
    "\n",
    "\n",
    "\n",
    "\n",
    "\n",
    "---\n",
    "\n"
   ]
  },
  {
   "cell_type": "markdown",
   "metadata": {
    "id": "I-uapVV4xdDx"
   },
   "source": [
    "\n",
    "\n",
    " **CONCLUSION**\n",
    "\n",
    "\n",
    "---\n",
    "\n",
    "\n",
    "\n",
    "\n",
    "The project has confirmed that machine learning can be used to investigate the patterns in the factors that affect GDP per capita for different countries and to develop a model that can predict the GDP when the most critical of these these factors are used as inputs. All the objective questions have been answered and explained in the respective sections observation summary notes. The project denotes the importance of diving deeper into the GDP specificities for countries per region for better model outcomes instead of analysing GDP globally. The model can aid in scenario planning, risk assessment, and providing a directional understanding of potential economic trajectories. It offers valuable guidance for long-term planning and strategy formulation for various sectors.\n",
    "\n",
    "\n",
    "\n",
    "\n",
    "\n",
    "\n",
    "\n",
    "\n",
    "---\n",
    " **-> Benefits**\n",
    "\n",
    "\n",
    "\n",
    "*  With information on the key variables for a certain year, one can use them as inputs and use the model to get a prediction of the year's GDP per capita. Based on how high or low the prediction is, it will be easier to take a deeper dive into the specific variables that need more research and investigation in order to influence the desired outcome.\n",
    "*   If you want to compare the GDP per Capita for select countries or regions, the PCA and feature selection section also allows you to pinpoint the different variables you need to focus on that cause variations per region.\n",
    "\n",
    "*   In Kenya, economic development often tends to be politicised and this project allows for the use of data to contribute to these discussion and to shed light on the major geo-economic factors that need our attention, analysis and further investment in order to also be among the top in Africa.\n",
    "\n",
    "\n",
    "\n",
    "---\n",
    "\n",
    "\n",
    "\n",
    "\n",
    "\n",
    "\n",
    "\n",
    "\n",
    "\n",
    "\n",
    "\n",
    "\n",
    "\n",
    "\n",
    "\n",
    "\n",
    "\n",
    "\n"
   ]
  }
 ],
 "metadata": {
  "colab": {
   "provenance": []
  },
  "jupytext": {
   "formats": "ipynb,py:light"
  },
  "kernelspec": {
   "display_name": "Python 3 (ipykernel)",
   "language": "python",
   "name": "python3"
  },
  "language_info": {
   "codemirror_mode": {
    "name": "ipython",
    "version": 3
   },
   "file_extension": ".py",
   "mimetype": "text/x-python",
   "name": "python",
   "nbconvert_exporter": "python",
   "pygments_lexer": "ipython3",
   "version": "3.8.10"
  }
 },
 "nbformat": 4,
 "nbformat_minor": 4
}
